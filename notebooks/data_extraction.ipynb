{
 "cells": [
  {
   "cell_type": "markdown",
   "metadata": {},
   "source": [
    "The point of this notebook is to web-scrape MLS data for years 2022 through 2024.\n",
    "I found a pretty useful set on Kaggle, covering years 1996 - 2022.\n",
    "I included 2022 in the web-scraping to get a better understanding of how to fit 2023 and\n",
    "2024 data to the existing set. I haven't completed scraping all the data I want, so currently\n",
    "this data is not included when creating my initial models."
   ]
  },
  {
   "cell_type": "markdown",
   "metadata": {},
   "source": [
    "# Essential Libraries + Other"
   ]
  },
  {
   "cell_type": "code",
   "execution_count": 1,
   "metadata": {},
   "outputs": [],
   "source": [
    "%load_ext autoreload\n",
    "\n",
    "%autoreload 2\n",
    "\n",
    "import configparser\n",
    "import os\n",
    "import time\n",
    "import random\n",
    "import pandas as pd\n",
    "import requests\n",
    "import openpyxl\n",
    "import sqlite3\n",
    "\n",
    "\n",
    "from io import StringIO\n",
    "from pathlib import Path\n",
    "from bs4 import BeautifulSoup\n",
    "from alive_progress import alive_bar\n",
    "import datetime\n",
    "\n",
    "# for file saving\n",
    "today = datetime.datetime.now()\n",
    "today = today.strftime(\"%Y_%m_%d\")\n",
    "\n",
    "# some stuff I set up in a config file so I don't have to keep updating certain\n",
    "# variables in every script\n",
    "config = configparser.ConfigParser()\n",
    "config.read('../src/config.ini')\n",
    "\n",
    "config = configparser.ConfigParser()\n",
    "config.read('../src/config.ini')\n",
    "\n",
    "# the output path is specified in the config.ini file\n",
    "output = Path(config['paths']['output'])\n",
    "# I want data for the 2022 through 2024 season\n",
    "yearly_directories = [Path(output/f\"mls_{year}\") for year in range(2022,2025)]\n",
    "\n",
    "# create output directory and sub-directories if doesnt exist\n",
    "for directory in yearly_directories+[output]:\n",
    "    try:\n",
    "        assert directory.exists()\n",
    "    except:\n",
    "        os.mkdir(directory)"
   ]
  },
  {
   "cell_type": "markdown",
   "metadata": {},
   "source": [
    "# Starting Point"
   ]
  },
  {
   "cell_type": "code",
   "execution_count": 2,
   "metadata": {},
   "outputs": [],
   "source": [
    "# I will be web-scraping alot, so I made this function as a result\n",
    "\n",
    "def get_html_data(url, parser='html.parser') -> BeautifulSoup:\n",
    "    '''\n",
    "    Extract html data from specified url and return a bs4 object.\n",
    "    Parser can be specified if needed. Default is html.parser.\n",
    "    '''\n",
    "    response = requests.get(url)\n",
    "    html_content = response.text\n",
    "    soup = BeautifulSoup(html_content, parser)\n",
    "    \n",
    "    return soup"
   ]
  },
  {
   "cell_type": "code",
   "execution_count": 3,
   "metadata": {},
   "outputs": [],
   "source": [
    "# I ended up using this a lot in the end\n",
    "def get_table_data_from_html(soup) -> list:\n",
    "    '''\n",
    "    Extract tables from bs4 object and return a list of dataframes.\n",
    "    '''\n",
    "    \n",
    "    # get all tables in the html\n",
    "    tables = soup.findAll('table')\n",
    "\n",
    "    # create dfs for each table and append each one to a list\n",
    "    dfs_from_tables = []\n",
    "    for table in tables:\n",
    "        dfs_from_tables.append(pd.read_html(StringIO(str(table)))[0])\n",
    "    \n",
    "    return dfs_from_tables"
   ]
  },
  {
   "cell_type": "code",
   "execution_count": 4,
   "metadata": {},
   "outputs": [],
   "source": [
    "def get_all_player_match_data(excel_file_path) -> tuple[pd.DataFrame, list]:\n",
    "    '''\n",
    "    Input an excel file of the copied tables from the websites and return a tuple\n",
    "    where the first element is a dataframe of all player data and the second element\n",
    "    is a list of URLs where extraction failed. This attempts to extract data from\n",
    "    the failed URLs once more before completing.\n",
    "    '''\n",
    "    # get year from directory the excel file is in\n",
    "    year = os.path.dirname(excel_file_path).split('\\\\')[-1].replace('mls_', '')\n",
    "    # extract all links from the excel file\n",
    "    # returned as a df in case of future use with an idea I had\n",
    "    player_links = get_all_player_match_data_links(excel_file_path, year)\n",
    "    # initialize empty df for all player data\n",
    "    player_data_df = pd.DataFrame()\n",
    "    \n",
    "    # generate the initial player data df and failed links list\n",
    "    player_data_df, failed_links = generate_player_df(list(player_links['stat_link']), player_data_df)\n",
    "    \n",
    "    # if first round has failed links, retry them\n",
    "    # sometimes extracting the data the first time just doesn't work but rerunning usually does\n",
    "    if len(failed_links)>0:\n",
    "        player_data_df, failed_links = generate_player_df(failed_links, player_data_df)\n",
    "\n",
    "    correct_col_names = ['Date', 'Day', 'Comp', 'Round', 'Venue', 'Result', 'Squad', 'Opponent',\n",
    "       'Start', 'Pos', 'Min', 'Gls', 'Ast', 'PK', 'PKatt', 'Sh', 'SoT', 'CrdY',\n",
    "       'CrdR', 'Touches', 'Tkl', 'Int', 'Blocks', 'xG', 'npxG', 'xAG', 'SCA',\n",
    "       'GCA', 'Cmp', 'Att', 'Cmp%', 'PrgP', 'Carries', 'PrgC', 'Att_TakeOn', 'Succ',\n",
    "       'Match Report', 'player_url']\n",
    "    player_data_df.columns = correct_col_names\n",
    "\n",
    "    return player_data_df, failed_links \n",
    "\n",
    "def generate_player_df(player_links, df=pd.DataFrame()) -> tuple[pd.DataFrame, list]:\n",
    "    '''\n",
    "    Given an iterable of individual player links (and a df to modify), return a tuple (DataFrame, list)\n",
    "    where the dataframe contains all player data and the list contains URLs with failed extractions.\n",
    "    '''\n",
    "    # get total number of players for alive_bar\n",
    "    total_players = len(player_links)\n",
    "    # to append failed links to a list\n",
    "    failed_links = []\n",
    "    \n",
    "    # progress bar, force_tty=True might be needed depending if animations don't show for you\n",
    "    # I used jupyter notebooks, so I needed this\n",
    "    with alive_bar(total_players, force_tty=True) as bar:\n",
    "        for player_url in player_links:\n",
    "            # limited to 10 requests a minute per website rules :(\n",
    "            # I set this as 7 seconds just to be safe but you can adjust as needed\n",
    "            # in the config file\n",
    "            time.sleep(int(config['other']['request_time_limit']))\n",
    "            \n",
    "            # if you get a player df, append it to df, otherwise add to failed links\n",
    "            temp_df = attempt_data_extraction(player_url)\n",
    "            if type(temp_df)==type(None):\n",
    "                failed_links.append(player_url)\n",
    "            else:\n",
    "                temp_df['player'] = player_url\n",
    "                df = pd.concat([df, temp_df], ignore_index=True)\n",
    "            bar()\n",
    "    # return df and failed links\n",
    "    return df, failed_links\n",
    "\n",
    "def attempt_data_extraction(url) -> pd.DataFrame | None:\n",
    "    '''\n",
    "    Attempt to get a player data dataframe. Return the df if successful,\n",
    "    otherwise return None.\n",
    "    '''\n",
    "    # try to get a player_df and return it\n",
    "    try:\n",
    "        player_df = get_player_data_df(url)\n",
    "        return player_df\n",
    "    # otherwise, let the user know and return nothing\n",
    "    except:\n",
    "        print(f\"Could not get player data for {url}\")\n",
    "        return None\n",
    "\n",
    "def get_all_player_match_data_links(excel_file_path, year) -> pd.DataFrame:\n",
    "    '''\n",
    "    Extract all links from the excel that is a copy of the website data. Return\n",
    "    a dataframe of the player names and URLs.\n",
    "    '''\n",
    "    # read excel file\n",
    "    all_players = pd.read_excel(excel_file_path)\n",
    "    wb = openpyxl.load_workbook(excel_file_path)\n",
    "    sheets = wb.sheetnames\n",
    "    ws = wb[sheets[0]]\n",
    "    # get hyper links from file\n",
    "    # in this situation, links didn't start until +2 and are found in column 37\n",
    "    # this may need to be adjusted depending on how the data comes out\n",
    "    all_players['stat_link'] = [ws.cell(row=i+2, column=37).hyperlink.target for i in range(all_players.shape[0])]\n",
    "    # save all links out\n",
    "    all_players[['Player', 'stat_link']].to_csv(output/f'mls_{year}' / 'player_links.csv', index=False)\n",
    "    \n",
    "    # return df of just the player name and stat link\n",
    "    return all_players[['Player', 'stat_link']]\n",
    "    \n",
    "    \n",
    "def get_player_data_df(url) -> pd.DataFrame:\n",
    "    '''\n",
    "    Using the URL for the individual player, get the first table on the website\n",
    "    and return it as a dataframe.\n",
    "    '''\n",
    "    # get html data from url\n",
    "    player_data_html = get_html_data(url)\n",
    "    # generate tables list\n",
    "    player_df = get_table_data_from_html(player_data_html)\n",
    "    # add player url to data in first df in list\n",
    "    # the lists always had 1 df but would break unless I left it as-is\n",
    "    # player_df[0]['player'] = player_url\n",
    "    \n",
    "    return player_df[0]"
   ]
  },
  {
   "cell_type": "code",
   "execution_count": 20,
   "metadata": {},
   "outputs": [],
   "source": [
    "soup = get_html_data(r'https://fbref.com/en/players/1339039e/matchlogs/2024/Liel-Abada-Match-Logs')"
   ]
  },
  {
   "cell_type": "code",
   "execution_count": 21,
   "metadata": {},
   "outputs": [],
   "source": [
    "tables = soup.findAll('table')\n",
    "\n",
    "# create dfs for each table and append each one to a list\n",
    "dfs_from_tables = []\n",
    "for table in tables:\n",
    "    dfs_from_tables.append(pd.read_html(StringIO(str(table)))[0])"
   ]
  },
  {
   "cell_type": "code",
   "execution_count": 40,
   "metadata": {},
   "outputs": [
    {
     "name": "stdout",
     "output_type": "stream",
     "text": [
      "https://fbref.com/en/players/1339039e/matchlogs/2024/summary/Liel-Abada-Match-Logs\n",
      "https://fbref.com/en/players/1339039e/matchlogs/2024/passing/Liel-Abada-Match-Logs\n",
      "https://fbref.com/en/players/1339039e/matchlogs/2024/passing_types/Liel-Abada-Match-Logs\n",
      "https://fbref.com/en/players/1339039e/matchlogs/2024/gca/Liel-Abada-Match-Logs\n",
      "https://fbref.com/en/players/1339039e/matchlogs/2024/defense/Liel-Abada-Match-Logs\n",
      "https://fbref.com/en/players/1339039e/matchlogs/2024/possession/Liel-Abada-Match-Logs\n",
      "https://fbref.com/en/players/1339039e/matchlogs/2024/misc/Liel-Abada-Match-Logs\n"
     ]
    }
   ],
   "source": [
    "base_player_link = 'https://fbref.com/en/players/1339039e/matchlogs/2024/Liel-Abada-Match-Logs'\n",
    "table_links = ['summary', 'passing', 'passing_types', 'gca', 'defense', 'possession', 'misc']\n",
    "\n",
    "table_links_column_names =[\n",
    "    'date', 'day', 'comp', 'round', 'venue', 'result', 'squad', 'opponent', 'start', 'pos', 'min', 'gls', 'ast', 'pk', 'pk_att', 'sh', 'sot', 'crdy', 'crdr', 'touches', 'tkl', 'int', 'blocks', 'xg', 'npxg', 'xag', 'sca', 'gca', 'cmp', 'att', 'cmp_perc', 'prgp', 'carries', 'prgc', 'att', 'succ'\n",
    "]\n"
   ]
  },
  {
   "cell_type": "code",
   "execution_count": 38,
   "metadata": {},
   "outputs": [
    {
     "data": {
      "text/plain": [
       "['https:',\n",
       " '',\n",
       " 'fbref.com',\n",
       " 'en',\n",
       " 'players',\n",
       " '1339039e',\n",
       " 'matchlogs',\n",
       " '2024',\n",
       " 'test',\n",
       " 'Liel-Abada-Match-Logs']"
      ]
     },
     "execution_count": 38,
     "metadata": {},
     "output_type": "execute_result"
    }
   ],
   "source": [
    "temp = base_player_link.split('/')\n",
    "temp.insert(-1,'test')\n",
    "temp"
   ]
  },
  {
   "cell_type": "code",
   "execution_count": 50,
   "metadata": {},
   "outputs": [],
   "source": [
    "def generate_player_df(player_links, df=pd.DataFrame()) -> tuple[pd.DataFrame, list]:\n",
    "    '''\n",
    "    Given an iterable of individual player links (and a df to modify), return a tuple (DataFrame, list)\n",
    "    where the dataframe contains all player data and the list contains URLs with failed extractions.\n",
    "    '''\n",
    "    # get total number of players for alive_bar\n",
    "    total_players = len(player_links)\n",
    "    # to append failed links to a list\n",
    "    failed_links = []\n",
    "    table_links = ['summary', 'passing', 'passing_types', 'gca', 'defense', 'possession', 'misc']\n",
    "    \n",
    "    # progress bar, force_tty=True might be needed depending if animations don't show for you\n",
    "    # I used jupyter notebooks, so I needed this\n",
    "    with alive_bar(total_players, force_tty=True) as bar:\n",
    "        for player_url in player_links:\n",
    "            player_tables = []\n",
    "            for table_ in table_links:\n",
    "                temp = base_player_link.split('/')\n",
    "                temp.insert(-1, table_)\n",
    "                temp = '/'.join(temp)\n",
    "                player_tables.append(temp)\n",
    "            # limited to 10 requests a minute per website rules :(\n",
    "            # I set this as 7 seconds just to be safe but you can adjust as needed\n",
    "            # in the config file\n",
    "            temp_df = pd.DataFrame()\n",
    "            for table_url in player_tables:\n",
    "                print(table_url)\n",
    "                time.sleep(int(config['other']['request_time_limit']))\n",
    "            \n",
    "        # if you get a player df, append it to df, otherwise add to failed links\n",
    "                temp = attempt_data_extraction(table_url)\n",
    "                temp_df = pd.concat([temp_df, temp], ignore_index=True, axis=1)\n",
    "\n",
    "            if type(temp_df)==type(None):\n",
    "                failed_links.append(player_url)\n",
    "            else:\n",
    "                temp_df['player'] = player_url\n",
    "                df = pd.concat([df, temp_df], ignore_index=True)\n",
    "            bar()\n",
    "    # return df and failed links\n",
    "    return df, failed_links"
   ]
  },
  {
   "cell_type": "code",
   "execution_count": 51,
   "metadata": {},
   "outputs": [
    {
     "name": "stdout",
     "output_type": "stream",
     "text": [
      "on 0: https://fbref.com/en/players/1339039e/matchlogs/2024/summary/Liel-Abada-Match-Logs\n",
      "on 0: https://fbref.com/en/players/1339039e/matchlogs/2024/passing/Liel-Abada-Match-Logs\n",
      "on 0: https://fbref.com/en/players/1339039e/matchlogs/2024/passing_types/Liel-Abada-Match-Logs\n",
      "on 0: https://fbref.com/en/players/1339039e/matchlogs/2024/gca/Liel-Abada-Match-Logs\n",
      "on 0: https://fbref.com/en/players/1339039e/matchlogs/2024/defense/Liel-Abada-Match-Logs\n",
      "on 0: https://fbref.com/en/players/1339039e/matchlogs/2024/possession/Liel-Abada-Match-Logs\n",
      "on 0: https://fbref.com/en/players/1339039e/matchlogs/2024/misc/Liel-Abada-Match-Logs\n",
      "|████████████████████████████████████████| 1/1 [100%] in 52.9s (0.02/s)         \n"
     ]
    }
   ],
   "source": [
    "temp_df = generate_player_df(['https://fbref.com/en/players/1339039e/matchlogs/2024/Liel-Abada-Match-Logs'])"
   ]
  },
  {
   "cell_type": "code",
   "execution_count": 60,
   "metadata": {},
   "outputs": [],
   "source": [
    "temp_df[0].to_csv('test.csv', index=False)"
   ]
  },
  {
   "cell_type": "markdown",
   "metadata": {},
   "source": [
    "# Current Season - 2024"
   ]
  },
  {
   "cell_type": "code",
   "execution_count": null,
   "metadata": {},
   "outputs": [],
   "source": [
    "# this url gives me a list of all players in the current league\n",
    "base_url = 'https://fbref.com/en/comps/22/Major-League-Soccer-Stats'\n",
    "\n",
    "# this page gives me a bunch of tables for team stats in the current moment\n",
    "# not sure how much of the data here will be useful, but I'll grab it just-in-case\n",
    "# html = get_html_data(base_url + 'players/')"
   ]
  },
  {
   "cell_type": "code",
   "execution_count": null,
   "metadata": {},
   "outputs": [],
   "source": [
    "# team_stat_dfs = get_table_data_from_html(html)"
   ]
  },
  {
   "cell_type": "markdown",
   "metadata": {},
   "source": [
    "# Individual Player Data\n",
    "I had to copy and paste the \"Player Standard Stats\" table from this url (https://fbref.com/en/comps/22/stats/Major-League-Soccer-Stats) since I failed to do so with bs4. I saved it\n",
    "out as an excel file. I just want to extract the urls that go directly to the players stats."
   ]
  },
  {
   "cell_type": "code",
   "execution_count": null,
   "metadata": {},
   "outputs": [],
   "source": [
    "player_data_2024_df, failed_links_2024 = get_all_player_match_data(config['paths']['all_players_2024'])"
   ]
  },
  {
   "cell_type": "code",
   "execution_count": null,
   "metadata": {},
   "outputs": [],
   "source": [
    "player_data_2024_df"
   ]
  },
  {
   "cell_type": "code",
   "execution_count": null,
   "metadata": {},
   "outputs": [],
   "source": [
    "player_data_2024_df.to_csv(output/\"mls_2024\"/f\"all_player_data_2024_{today}.csv\", index=False)"
   ]
  },
  {
   "cell_type": "markdown",
   "metadata": {},
   "source": [
    "# PRIOR YEARS\n",
    "I recommend running each year/season individually. At the time of creating this script,\n",
    "the website has a limit of 10 requests/minute. As a result, I had to stall with a timer\n",
    "of 7 seconds before running each request. This causes each year to take ~2 hours just to\n",
    "get the individual player performance data for each match. It would be best to finish\n",
    "tackling a year before moving onto the next. Depending on your PC, you might also need\n",
    "to take resources into account as well and save each year out before moving onto the next."
   ]
  },
  {
   "cell_type": "markdown",
   "metadata": {},
   "source": [
    "# 2023 Season"
   ]
  },
  {
   "cell_type": "code",
   "execution_count": null,
   "metadata": {},
   "outputs": [],
   "source": [
    "player_data_2023_df, failed_links_2023 = get_all_player_match_data(config['paths']['all_players_2023'])"
   ]
  },
  {
   "cell_type": "code",
   "execution_count": null,
   "metadata": {},
   "outputs": [],
   "source": [
    "player_data_2023_df"
   ]
  },
  {
   "cell_type": "code",
   "execution_count": null,
   "metadata": {},
   "outputs": [],
   "source": [
    "player_data_2023_df.to_csv(output/\"mls_2023\"/f\"all_player_data_2023_{today}.csv\", index=False)"
   ]
  },
  {
   "cell_type": "markdown",
   "metadata": {},
   "source": [
    "# 2022 Season"
   ]
  },
  {
   "cell_type": "code",
   "execution_count": null,
   "metadata": {},
   "outputs": [],
   "source": [
    "player_data_2022_df, failed_links_2022 = get_all_player_match_data(config['paths']['all_players_2022'])"
   ]
  },
  {
   "cell_type": "code",
   "execution_count": null,
   "metadata": {},
   "outputs": [],
   "source": [
    "player_data_2022_df"
   ]
  },
  {
   "cell_type": "code",
   "execution_count": null,
   "metadata": {},
   "outputs": [],
   "source": [
    "player_data_2022_df.to_csv(output/\"mls_2022\"/f\"all_player_data_2022_{today}.csv\", index=False)"
   ]
  },
  {
   "cell_type": "markdown",
   "metadata": {},
   "source": [
    "# UPDATED METHOD"
   ]
  },
  {
   "cell_type": "code",
   "execution_count": 399,
   "metadata": {},
   "outputs": [],
   "source": [
    "def get_all_teams(url):\n",
    "    soup = get_html_data(url)\n",
    "    year = soup.find('h1').text[10:14]\n",
    "    eastern_conference = soup.find('table', {'id': f'results{year}221Eastern-Conference_overall'})\n",
    "    western_conference = soup.find('table', {'id': f'results{year}221Western-Conference_overall'})\n",
    "\n",
    "    # Extract links from each table\n",
    "\n",
    "    eastern_links = extract_table_links(eastern_conference)\n",
    "    western_links = extract_table_links(western_conference)\n",
    "\n",
    "    all_teams = pd.DataFrame(eastern_links + western_links)\n",
    "    all_teams.columns = ['team', 'team_url']\n",
    "    \n",
    "    all_teams.to_csv(output / f\"mls_{year}/all_teams.csv\", index=False)\n",
    "\n",
    "    return all_teams, year\n",
    "\n",
    "def extract_table_links(table):\n",
    "    links = []\n",
    "    if table:\n",
    "        rows = table.find_all('tr')\n",
    "        for row in rows:\n",
    "            link_tag = row.find('a')\n",
    "            if link_tag:\n",
    "                links.append((link_tag.text, f\"https://fbref.com{link_tag['href']}\"))\n",
    "    return links\n",
    "\n",
    "def extract_table_links_and_positions(table):\n",
    "    links = []\n",
    "    if table:\n",
    "        rows = table.find_all('tr')\n",
    "        for row in rows:\n",
    "            link_tag = row.find('a')\n",
    "            try:\n",
    "                position = row.find('td',{'data-stat':'position'})\n",
    "                position = position.text\n",
    "            except:\n",
    "                position = None\n",
    "            if link_tag:\n",
    "                links.append((link_tag.text, f\"https://fbref.com{link_tag['href']}\", position))\n",
    "    return links\n",
    "\n",
    "def get_team_players(team):\n",
    "    time.sleep(int(config['other']['request_time_limit']))\n",
    "    soup = get_html_data(team['team_url'])\n",
    "    players_df = extract_table_links_and_positions(soup.find('table', {'id': 'stats_standard_22'}))\n",
    "    players_df = pd.DataFrame(players_df)\n",
    "    players_df.columns = ['player_name', 'player_url', 'position']\n",
    "    players_df['team'] = team['team']\n",
    "    return players_df\n",
    "\n",
    "def get_all_players(all_teams_df, year):\n",
    "    all_team_players = list(all_teams_df.apply(get_team_players,axis=1))\n",
    "\n",
    "    all_players_df = pd.DataFrame()\n",
    "    for players in all_team_players:\n",
    "        all_players_df = pd.concat([all_players_df, players], ignore_index=True)\n",
    "    all_players_df.drop_duplicates(inplace=True)\n",
    "\n",
    "    all_players_df.to_csv(output / f\"mls_{year}/all_players.csv\", index=False)\n",
    "\n",
    "    return all_players_df\n",
    "\n",
    "def get_teams_and_players(url):\n",
    "    all_teams_df, year = get_all_teams(url)\n",
    "\n",
    "    all_players_df = get_all_players(all_teams_df, year)\n",
    "\n",
    "    return year, all_teams_df, all_players_df"
   ]
  },
  {
   "cell_type": "code",
   "execution_count": 400,
   "metadata": {},
   "outputs": [],
   "source": [
    "year, all_teams_df, all_players_df = get_teams_and_players('https://fbref.com/en/comps/22/Major-League-Soccer-Stats')"
   ]
  },
  {
   "cell_type": "code",
   "execution_count": 401,
   "metadata": {},
   "outputs": [
    {
     "data": {
      "text/plain": [
       "'2024'"
      ]
     },
     "execution_count": 401,
     "metadata": {},
     "output_type": "execute_result"
    }
   ],
   "source": [
    "year"
   ]
  },
  {
   "cell_type": "code",
   "execution_count": 402,
   "metadata": {},
   "outputs": [
    {
     "data": {
      "text/html": [
       "<div>\n",
       "<style scoped>\n",
       "    .dataframe tbody tr th:only-of-type {\n",
       "        vertical-align: middle;\n",
       "    }\n",
       "\n",
       "    .dataframe tbody tr th {\n",
       "        vertical-align: top;\n",
       "    }\n",
       "\n",
       "    .dataframe thead th {\n",
       "        text-align: right;\n",
       "    }\n",
       "</style>\n",
       "<table border=\"1\" class=\"dataframe\">\n",
       "  <thead>\n",
       "    <tr style=\"text-align: right;\">\n",
       "      <th></th>\n",
       "      <th>team</th>\n",
       "      <th>team_url</th>\n",
       "    </tr>\n",
       "  </thead>\n",
       "  <tbody>\n",
       "    <tr>\n",
       "      <th>0</th>\n",
       "      <td>Inter Miami</td>\n",
       "      <td>https://fbref.com/en/squads/cb8b86a2/Inter-Mia...</td>\n",
       "    </tr>\n",
       "    <tr>\n",
       "      <th>1</th>\n",
       "      <td>Columbus Crew</td>\n",
       "      <td>https://fbref.com/en/squads/529ba333/Columbus-...</td>\n",
       "    </tr>\n",
       "    <tr>\n",
       "      <th>2</th>\n",
       "      <td>FC Cincinnati</td>\n",
       "      <td>https://fbref.com/en/squads/e9ea41b2/FC-Cincin...</td>\n",
       "    </tr>\n",
       "    <tr>\n",
       "      <th>3</th>\n",
       "      <td>Orlando City</td>\n",
       "      <td>https://fbref.com/en/squads/46ef01d0/Orlando-C...</td>\n",
       "    </tr>\n",
       "    <tr>\n",
       "      <th>4</th>\n",
       "      <td>Charlotte</td>\n",
       "      <td>https://fbref.com/en/squads/eb57545a/Charlotte...</td>\n",
       "    </tr>\n",
       "    <tr>\n",
       "      <th>5</th>\n",
       "      <td>NYCFC</td>\n",
       "      <td>https://fbref.com/en/squads/64e81410/New-York-...</td>\n",
       "    </tr>\n",
       "    <tr>\n",
       "      <th>6</th>\n",
       "      <td>NY Red Bulls</td>\n",
       "      <td>https://fbref.com/en/squads/69a0fb10/New-York-...</td>\n",
       "    </tr>\n",
       "    <tr>\n",
       "      <th>7</th>\n",
       "      <td>CF Montréal</td>\n",
       "      <td>https://fbref.com/en/squads/fc22273c/CF-Montre...</td>\n",
       "    </tr>\n",
       "    <tr>\n",
       "      <th>8</th>\n",
       "      <td>Atlanta Utd</td>\n",
       "      <td>https://fbref.com/en/squads/1ebc1a5b/Atlanta-U...</td>\n",
       "    </tr>\n",
       "    <tr>\n",
       "      <th>9</th>\n",
       "      <td>D.C. United</td>\n",
       "      <td>https://fbref.com/en/squads/44117292/DC-United...</td>\n",
       "    </tr>\n",
       "    <tr>\n",
       "      <th>10</th>\n",
       "      <td>Toronto FC</td>\n",
       "      <td>https://fbref.com/en/squads/130f43fa/Toronto-F...</td>\n",
       "    </tr>\n",
       "    <tr>\n",
       "      <th>11</th>\n",
       "      <td>Philadelphia Union</td>\n",
       "      <td>https://fbref.com/en/squads/46024eeb/Philadelp...</td>\n",
       "    </tr>\n",
       "    <tr>\n",
       "      <th>12</th>\n",
       "      <td>Nashville SC</td>\n",
       "      <td>https://fbref.com/en/squads/35f1b818/Nashville...</td>\n",
       "    </tr>\n",
       "    <tr>\n",
       "      <th>13</th>\n",
       "      <td>NE Revolution</td>\n",
       "      <td>https://fbref.com/en/squads/3c079def/New-Engla...</td>\n",
       "    </tr>\n",
       "    <tr>\n",
       "      <th>14</th>\n",
       "      <td>Chicago Fire</td>\n",
       "      <td>https://fbref.com/en/squads/f9940243/Chicago-F...</td>\n",
       "    </tr>\n",
       "    <tr>\n",
       "      <th>15</th>\n",
       "      <td>LAFC</td>\n",
       "      <td>https://fbref.com/en/squads/81d817a3/Los-Angel...</td>\n",
       "    </tr>\n",
       "    <tr>\n",
       "      <th>16</th>\n",
       "      <td>LA Galaxy</td>\n",
       "      <td>https://fbref.com/en/squads/d8b46897/LA-Galaxy...</td>\n",
       "    </tr>\n",
       "    <tr>\n",
       "      <th>17</th>\n",
       "      <td>Real Salt Lake</td>\n",
       "      <td>https://fbref.com/en/squads/f7d86a43/Real-Salt...</td>\n",
       "    </tr>\n",
       "    <tr>\n",
       "      <th>18</th>\n",
       "      <td>Seattle Sounders FC</td>\n",
       "      <td>https://fbref.com/en/squads/6218ebd4/Seattle-S...</td>\n",
       "    </tr>\n",
       "    <tr>\n",
       "      <th>19</th>\n",
       "      <td>Houston Dynamo</td>\n",
       "      <td>https://fbref.com/en/squads/0d885416/Houston-D...</td>\n",
       "    </tr>\n",
       "    <tr>\n",
       "      <th>20</th>\n",
       "      <td>Minnesota Utd</td>\n",
       "      <td>https://fbref.com/en/squads/99ea75a6/Minnesota...</td>\n",
       "    </tr>\n",
       "    <tr>\n",
       "      <th>21</th>\n",
       "      <td>Colorado Rapids</td>\n",
       "      <td>https://fbref.com/en/squads/415b4465/Colorado-...</td>\n",
       "    </tr>\n",
       "    <tr>\n",
       "      <th>22</th>\n",
       "      <td>Vancouver W'caps</td>\n",
       "      <td>https://fbref.com/en/squads/ab41cb90/Vancouver...</td>\n",
       "    </tr>\n",
       "    <tr>\n",
       "      <th>23</th>\n",
       "      <td>Portland Timbers</td>\n",
       "      <td>https://fbref.com/en/squads/d076914e/Portland-...</td>\n",
       "    </tr>\n",
       "    <tr>\n",
       "      <th>24</th>\n",
       "      <td>Austin</td>\n",
       "      <td>https://fbref.com/en/squads/b918956d/Austin-FC...</td>\n",
       "    </tr>\n",
       "    <tr>\n",
       "      <th>25</th>\n",
       "      <td>FC Dallas</td>\n",
       "      <td>https://fbref.com/en/squads/15cf8f40/FC-Dallas...</td>\n",
       "    </tr>\n",
       "    <tr>\n",
       "      <th>26</th>\n",
       "      <td>St. Louis</td>\n",
       "      <td>https://fbref.com/en/squads/bd97ac1f/St-Louis-...</td>\n",
       "    </tr>\n",
       "    <tr>\n",
       "      <th>27</th>\n",
       "      <td>Sporting KC</td>\n",
       "      <td>https://fbref.com/en/squads/4acb0537/Sporting-...</td>\n",
       "    </tr>\n",
       "    <tr>\n",
       "      <th>28</th>\n",
       "      <td>SJ Earthquakes</td>\n",
       "      <td>https://fbref.com/en/squads/ca460650/San-Jose-...</td>\n",
       "    </tr>\n",
       "  </tbody>\n",
       "</table>\n",
       "</div>"
      ],
      "text/plain": [
       "                   team                                           team_url\n",
       "0           Inter Miami  https://fbref.com/en/squads/cb8b86a2/Inter-Mia...\n",
       "1         Columbus Crew  https://fbref.com/en/squads/529ba333/Columbus-...\n",
       "2         FC Cincinnati  https://fbref.com/en/squads/e9ea41b2/FC-Cincin...\n",
       "3          Orlando City  https://fbref.com/en/squads/46ef01d0/Orlando-C...\n",
       "4             Charlotte  https://fbref.com/en/squads/eb57545a/Charlotte...\n",
       "5                 NYCFC  https://fbref.com/en/squads/64e81410/New-York-...\n",
       "6          NY Red Bulls  https://fbref.com/en/squads/69a0fb10/New-York-...\n",
       "7           CF Montréal  https://fbref.com/en/squads/fc22273c/CF-Montre...\n",
       "8           Atlanta Utd  https://fbref.com/en/squads/1ebc1a5b/Atlanta-U...\n",
       "9           D.C. United  https://fbref.com/en/squads/44117292/DC-United...\n",
       "10           Toronto FC  https://fbref.com/en/squads/130f43fa/Toronto-F...\n",
       "11   Philadelphia Union  https://fbref.com/en/squads/46024eeb/Philadelp...\n",
       "12         Nashville SC  https://fbref.com/en/squads/35f1b818/Nashville...\n",
       "13        NE Revolution  https://fbref.com/en/squads/3c079def/New-Engla...\n",
       "14         Chicago Fire  https://fbref.com/en/squads/f9940243/Chicago-F...\n",
       "15                 LAFC  https://fbref.com/en/squads/81d817a3/Los-Angel...\n",
       "16            LA Galaxy  https://fbref.com/en/squads/d8b46897/LA-Galaxy...\n",
       "17       Real Salt Lake  https://fbref.com/en/squads/f7d86a43/Real-Salt...\n",
       "18  Seattle Sounders FC  https://fbref.com/en/squads/6218ebd4/Seattle-S...\n",
       "19       Houston Dynamo  https://fbref.com/en/squads/0d885416/Houston-D...\n",
       "20        Minnesota Utd  https://fbref.com/en/squads/99ea75a6/Minnesota...\n",
       "21      Colorado Rapids  https://fbref.com/en/squads/415b4465/Colorado-...\n",
       "22     Vancouver W'caps  https://fbref.com/en/squads/ab41cb90/Vancouver...\n",
       "23     Portland Timbers  https://fbref.com/en/squads/d076914e/Portland-...\n",
       "24               Austin  https://fbref.com/en/squads/b918956d/Austin-FC...\n",
       "25            FC Dallas  https://fbref.com/en/squads/15cf8f40/FC-Dallas...\n",
       "26            St. Louis  https://fbref.com/en/squads/bd97ac1f/St-Louis-...\n",
       "27          Sporting KC  https://fbref.com/en/squads/4acb0537/Sporting-...\n",
       "28       SJ Earthquakes  https://fbref.com/en/squads/ca460650/San-Jose-..."
      ]
     },
     "execution_count": 402,
     "metadata": {},
     "output_type": "execute_result"
    }
   ],
   "source": [
    "all_teams_df"
   ]
  },
  {
   "cell_type": "code",
   "execution_count": 403,
   "metadata": {},
   "outputs": [
    {
     "data": {
      "text/html": [
       "<div>\n",
       "<style scoped>\n",
       "    .dataframe tbody tr th:only-of-type {\n",
       "        vertical-align: middle;\n",
       "    }\n",
       "\n",
       "    .dataframe tbody tr th {\n",
       "        vertical-align: top;\n",
       "    }\n",
       "\n",
       "    .dataframe thead th {\n",
       "        text-align: right;\n",
       "    }\n",
       "</style>\n",
       "<table border=\"1\" class=\"dataframe\">\n",
       "  <thead>\n",
       "    <tr style=\"text-align: right;\">\n",
       "      <th></th>\n",
       "      <th>player_name</th>\n",
       "      <th>player_url</th>\n",
       "      <th>position</th>\n",
       "      <th>team</th>\n",
       "    </tr>\n",
       "  </thead>\n",
       "  <tbody>\n",
       "    <tr>\n",
       "      <th>0</th>\n",
       "      <td>Drake Callender</td>\n",
       "      <td>https://fbref.com/en/players/c4d9567d/Drake-Ca...</td>\n",
       "      <td>GK</td>\n",
       "      <td>Inter Miami</td>\n",
       "    </tr>\n",
       "    <tr>\n",
       "      <th>1</th>\n",
       "      <td>Julian Gressel</td>\n",
       "      <td>https://fbref.com/en/players/acd47bc0/Julian-G...</td>\n",
       "      <td>MF,FW</td>\n",
       "      <td>Inter Miami</td>\n",
       "    </tr>\n",
       "    <tr>\n",
       "      <th>2</th>\n",
       "      <td>Sergio Busquets</td>\n",
       "      <td>https://fbref.com/en/players/5ab0ea87/Sergio-B...</td>\n",
       "      <td>MF,DF</td>\n",
       "      <td>Inter Miami</td>\n",
       "    </tr>\n",
       "    <tr>\n",
       "      <th>3</th>\n",
       "      <td>Tomás Avilés</td>\n",
       "      <td>https://fbref.com/en/players/f51b9ae1/Tomas-Av...</td>\n",
       "      <td>DF</td>\n",
       "      <td>Inter Miami</td>\n",
       "    </tr>\n",
       "    <tr>\n",
       "      <th>4</th>\n",
       "      <td>Jordi Alba</td>\n",
       "      <td>https://fbref.com/en/players/4601e194/Jordi-Alba</td>\n",
       "      <td>DF</td>\n",
       "      <td>Inter Miami</td>\n",
       "    </tr>\n",
       "    <tr>\n",
       "      <th>...</th>\n",
       "      <td>...</td>\n",
       "      <td>...</td>\n",
       "      <td>...</td>\n",
       "      <td>...</td>\n",
       "    </tr>\n",
       "    <tr>\n",
       "      <th>938</th>\n",
       "      <td>Beau Leroux</td>\n",
       "      <td>https://fbref.com/en/players/6a9ab308/Beau-Leroux</td>\n",
       "      <td>MF</td>\n",
       "      <td>SJ Earthquakes</td>\n",
       "    </tr>\n",
       "    <tr>\n",
       "      <th>939</th>\n",
       "      <td>Riley Lynch</td>\n",
       "      <td>https://fbref.com/en/players/9eb24ed6/Riley-Lynch</td>\n",
       "      <td>FW</td>\n",
       "      <td>SJ Earthquakes</td>\n",
       "    </tr>\n",
       "    <tr>\n",
       "      <th>940</th>\n",
       "      <td>Cruz Medina</td>\n",
       "      <td>https://fbref.com/en/players/89d44509/Cruz-Medina</td>\n",
       "      <td>MF</td>\n",
       "      <td>SJ Earthquakes</td>\n",
       "    </tr>\n",
       "    <tr>\n",
       "      <th>941</th>\n",
       "      <td>Emi Ochoa</td>\n",
       "      <td>https://fbref.com/en/players/30a08779/Emi-Ochoa</td>\n",
       "      <td>GK</td>\n",
       "      <td>SJ Earthquakes</td>\n",
       "    </tr>\n",
       "    <tr>\n",
       "      <th>942</th>\n",
       "      <td>Casey Walls</td>\n",
       "      <td>https://fbref.com/en/players/c5cbbec9/Casey-Walls</td>\n",
       "      <td>DF</td>\n",
       "      <td>SJ Earthquakes</td>\n",
       "    </tr>\n",
       "  </tbody>\n",
       "</table>\n",
       "<p>943 rows × 4 columns</p>\n",
       "</div>"
      ],
      "text/plain": [
       "         player_name                                         player_url  \\\n",
       "0    Drake Callender  https://fbref.com/en/players/c4d9567d/Drake-Ca...   \n",
       "1     Julian Gressel  https://fbref.com/en/players/acd47bc0/Julian-G...   \n",
       "2    Sergio Busquets  https://fbref.com/en/players/5ab0ea87/Sergio-B...   \n",
       "3       Tomás Avilés  https://fbref.com/en/players/f51b9ae1/Tomas-Av...   \n",
       "4         Jordi Alba   https://fbref.com/en/players/4601e194/Jordi-Alba   \n",
       "..               ...                                                ...   \n",
       "938      Beau Leroux  https://fbref.com/en/players/6a9ab308/Beau-Leroux   \n",
       "939      Riley Lynch  https://fbref.com/en/players/9eb24ed6/Riley-Lynch   \n",
       "940      Cruz Medina  https://fbref.com/en/players/89d44509/Cruz-Medina   \n",
       "941        Emi Ochoa    https://fbref.com/en/players/30a08779/Emi-Ochoa   \n",
       "942      Casey Walls  https://fbref.com/en/players/c5cbbec9/Casey-Walls   \n",
       "\n",
       "    position            team  \n",
       "0         GK     Inter Miami  \n",
       "1      MF,FW     Inter Miami  \n",
       "2      MF,DF     Inter Miami  \n",
       "3         DF     Inter Miami  \n",
       "4         DF     Inter Miami  \n",
       "..       ...             ...  \n",
       "938       MF  SJ Earthquakes  \n",
       "939       FW  SJ Earthquakes  \n",
       "940       MF  SJ Earthquakes  \n",
       "941       GK  SJ Earthquakes  \n",
       "942       DF  SJ Earthquakes  \n",
       "\n",
       "[943 rows x 4 columns]"
      ]
     },
     "execution_count": 403,
     "metadata": {},
     "output_type": "execute_result"
    }
   ],
   "source": [
    "all_players_df"
   ]
  },
  {
   "cell_type": "code",
   "execution_count": 248,
   "metadata": {},
   "outputs": [],
   "source": [
    "table_stat_types = ['keeper', 'summary', 'passing', 'passing_types', 'gca', 'defense', 'possession', 'misc']\n",
    "\n",
    "def generate_player_stat_links(player_url, year):\n",
    "    player_stat_links = []\n",
    "    for stat_type in table_stat_types:\n",
    "        temp = player_url.split('/')\n",
    "        temp.insert(-1, f\"matchlogs/{year}/{stat_type}\")\n",
    "        temp = '/'.join(temp)\n",
    "        player_stat_links.append(temp)\n",
    "    return player_stat_links\n",
    "\n",
    "def generate_individual_player_df(player_url):\n",
    "    player_stat_links = generate_player_stat_links(player_url)\n",
    "    player_df = pd.DataFrame()\n",
    "    for stat_link in player_stat_links:\n",
    "        time.sleep(int(config['other']['request_time_limit']))\n",
    "        soup = get_html_data(stat_link)\n",
    "        stat_df = soup.find('table')\n",
    "        stat_df = pd.read_html(StringIO(str(stat_df)))[0]\n",
    "        player_df = pd.concat([player_df, stat_df], axis=1)\n",
    "    return player_df"
   ]
  },
  {
   "cell_type": "code",
   "execution_count": 392,
   "metadata": {},
   "outputs": [
    {
     "ename": "KeyError",
     "evalue": "False",
     "output_type": "error",
     "traceback": [
      "\u001b[1;31m---------------------------------------------------------------------------\u001b[0m",
      "\u001b[1;31mKeyError\u001b[0m                                  Traceback (most recent call last)",
      "File \u001b[1;32mc:\\Users\\fezac\\anaconda3\\envs\\FUTBOL\\Lib\\site-packages\\pandas\\core\\indexes\\base.py:3805\u001b[0m, in \u001b[0;36mIndex.get_loc\u001b[1;34m(self, key)\u001b[0m\n\u001b[0;32m   3804\u001b[0m \u001b[38;5;28;01mtry\u001b[39;00m:\n\u001b[1;32m-> 3805\u001b[0m     \u001b[38;5;28;01mreturn\u001b[39;00m \u001b[38;5;28;43mself\u001b[39;49m\u001b[38;5;241;43m.\u001b[39;49m\u001b[43m_engine\u001b[49m\u001b[38;5;241;43m.\u001b[39;49m\u001b[43mget_loc\u001b[49m\u001b[43m(\u001b[49m\u001b[43mcasted_key\u001b[49m\u001b[43m)\u001b[49m\n\u001b[0;32m   3806\u001b[0m \u001b[38;5;28;01mexcept\u001b[39;00m \u001b[38;5;167;01mKeyError\u001b[39;00m \u001b[38;5;28;01mas\u001b[39;00m err:\n",
      "File \u001b[1;32mindex.pyx:167\u001b[0m, in \u001b[0;36mpandas._libs.index.IndexEngine.get_loc\u001b[1;34m()\u001b[0m\n",
      "File \u001b[1;32mindex.pyx:196\u001b[0m, in \u001b[0;36mpandas._libs.index.IndexEngine.get_loc\u001b[1;34m()\u001b[0m\n",
      "File \u001b[1;32mpandas\\\\_libs\\\\hashtable_class_helper.pxi:7081\u001b[0m, in \u001b[0;36mpandas._libs.hashtable.PyObjectHashTable.get_item\u001b[1;34m()\u001b[0m\n",
      "File \u001b[1;32mpandas\\\\_libs\\\\hashtable_class_helper.pxi:7089\u001b[0m, in \u001b[0;36mpandas._libs.hashtable.PyObjectHashTable.get_item\u001b[1;34m()\u001b[0m\n",
      "\u001b[1;31mKeyError\u001b[0m: False",
      "\nThe above exception was the direct cause of the following exception:\n",
      "\u001b[1;31mKeyError\u001b[0m                                  Traceback (most recent call last)",
      "Cell \u001b[1;32mIn[392], line 1\u001b[0m\n\u001b[1;32m----> 1\u001b[0m all_players_df[\u001b[43mall_players_df\u001b[49m\u001b[43m[\u001b[49m\u001b[38;5;124;43m'\u001b[39;49m\u001b[38;5;124;43mplayer_name\u001b[39;49m\u001b[38;5;124;43m'\u001b[39;49m\u001b[43m \u001b[49m\u001b[38;5;241;43m==\u001b[39;49m\u001b[43m \u001b[49m\u001b[38;5;124;43m'\u001b[39;49m\u001b[38;5;124;43mAziel Jackson\u001b[39;49m\u001b[38;5;124;43m'\u001b[39;49m\u001b[43m]\u001b[49m]\n",
      "File \u001b[1;32mc:\\Users\\fezac\\anaconda3\\envs\\FUTBOL\\Lib\\site-packages\\pandas\\core\\frame.py:4102\u001b[0m, in \u001b[0;36mDataFrame.__getitem__\u001b[1;34m(self, key)\u001b[0m\n\u001b[0;32m   4100\u001b[0m \u001b[38;5;28;01mif\u001b[39;00m \u001b[38;5;28mself\u001b[39m\u001b[38;5;241m.\u001b[39mcolumns\u001b[38;5;241m.\u001b[39mnlevels \u001b[38;5;241m>\u001b[39m \u001b[38;5;241m1\u001b[39m:\n\u001b[0;32m   4101\u001b[0m     \u001b[38;5;28;01mreturn\u001b[39;00m \u001b[38;5;28mself\u001b[39m\u001b[38;5;241m.\u001b[39m_getitem_multilevel(key)\n\u001b[1;32m-> 4102\u001b[0m indexer \u001b[38;5;241m=\u001b[39m \u001b[38;5;28;43mself\u001b[39;49m\u001b[38;5;241;43m.\u001b[39;49m\u001b[43mcolumns\u001b[49m\u001b[38;5;241;43m.\u001b[39;49m\u001b[43mget_loc\u001b[49m\u001b[43m(\u001b[49m\u001b[43mkey\u001b[49m\u001b[43m)\u001b[49m\n\u001b[0;32m   4103\u001b[0m \u001b[38;5;28;01mif\u001b[39;00m is_integer(indexer):\n\u001b[0;32m   4104\u001b[0m     indexer \u001b[38;5;241m=\u001b[39m [indexer]\n",
      "File \u001b[1;32mc:\\Users\\fezac\\anaconda3\\envs\\FUTBOL\\Lib\\site-packages\\pandas\\core\\indexes\\base.py:3812\u001b[0m, in \u001b[0;36mIndex.get_loc\u001b[1;34m(self, key)\u001b[0m\n\u001b[0;32m   3807\u001b[0m     \u001b[38;5;28;01mif\u001b[39;00m \u001b[38;5;28misinstance\u001b[39m(casted_key, \u001b[38;5;28mslice\u001b[39m) \u001b[38;5;129;01mor\u001b[39;00m (\n\u001b[0;32m   3808\u001b[0m         \u001b[38;5;28misinstance\u001b[39m(casted_key, abc\u001b[38;5;241m.\u001b[39mIterable)\n\u001b[0;32m   3809\u001b[0m         \u001b[38;5;129;01mand\u001b[39;00m \u001b[38;5;28many\u001b[39m(\u001b[38;5;28misinstance\u001b[39m(x, \u001b[38;5;28mslice\u001b[39m) \u001b[38;5;28;01mfor\u001b[39;00m x \u001b[38;5;129;01min\u001b[39;00m casted_key)\n\u001b[0;32m   3810\u001b[0m     ):\n\u001b[0;32m   3811\u001b[0m         \u001b[38;5;28;01mraise\u001b[39;00m InvalidIndexError(key)\n\u001b[1;32m-> 3812\u001b[0m     \u001b[38;5;28;01mraise\u001b[39;00m \u001b[38;5;167;01mKeyError\u001b[39;00m(key) \u001b[38;5;28;01mfrom\u001b[39;00m \u001b[38;5;21;01merr\u001b[39;00m\n\u001b[0;32m   3813\u001b[0m \u001b[38;5;28;01mexcept\u001b[39;00m \u001b[38;5;167;01mTypeError\u001b[39;00m:\n\u001b[0;32m   3814\u001b[0m     \u001b[38;5;66;03m# If we have a listlike key, _check_indexing_error will raise\u001b[39;00m\n\u001b[0;32m   3815\u001b[0m     \u001b[38;5;66;03m#  InvalidIndexError. Otherwise we fall through and re-raise\u001b[39;00m\n\u001b[0;32m   3816\u001b[0m     \u001b[38;5;66;03m#  the TypeError.\u001b[39;00m\n\u001b[0;32m   3817\u001b[0m     \u001b[38;5;28mself\u001b[39m\u001b[38;5;241m.\u001b[39m_check_indexing_error(key)\n",
      "\u001b[1;31mKeyError\u001b[0m: False"
     ]
    }
   ],
   "source": [
    "all_players_df[all_players_df['player_name' == 'Aziel Jackson']]"
   ]
  },
  {
   "cell_type": "code",
   "execution_count": 393,
   "metadata": {},
   "outputs": [
    {
     "data": {
      "text/plain": [
       "<td class=\"left poptip\" data-stat=\"nationality\" data-tip=\"birth\"><a href=\"/en/country/USA/United-States-Football\"><span style=\"white-space: nowrap\"><span class=\"f-i f-us\" style=\"\">us</span> USA</span></a></td>"
      ]
     },
     "execution_count": 393,
     "metadata": {},
     "output_type": "execute_result"
    }
   ],
   "source": [
    "table.find('td')"
   ]
  },
  {
   "cell_type": "code",
   "execution_count": null,
   "metadata": {},
   "outputs": [],
   "source": []
  }
 ],
 "metadata": {
  "kernelspec": {
   "display_name": "FUTBOL",
   "language": "python",
   "name": "python3"
  },
  "language_info": {
   "codemirror_mode": {
    "name": "ipython",
    "version": 3
   },
   "file_extension": ".py",
   "mimetype": "text/x-python",
   "name": "python",
   "nbconvert_exporter": "python",
   "pygments_lexer": "ipython3",
   "version": "3.12.7"
  }
 },
 "nbformat": 4,
 "nbformat_minor": 2
}
