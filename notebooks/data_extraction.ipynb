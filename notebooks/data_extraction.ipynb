{
 "cells": [
  {
   "cell_type": "markdown",
   "metadata": {},
   "source": [
    "The point of this notebook is to web-scrape MLS data for at least years 2022 through 2024.\n",
    "\n",
    "I found a pretty useful set on Kaggle, covering years 1996 - 2022.\n",
    "I included 2022 in the web-scraping to get a better understanding of how the web-scraping\n",
    "could possibly fit with that existing data. If possible, it would possibly save me some time\n",
    "on scraping. However, further exploration is required."
   ]
  },
  {
   "cell_type": "markdown",
   "metadata": {},
   "source": [
    "# Essential Libraries + Other"
   ]
  },
  {
   "cell_type": "code",
   "execution_count": 10,
   "metadata": {},
   "outputs": [
    {
     "name": "stdout",
     "output_type": "stream",
     "text": [
      "The autoreload extension is already loaded. To reload it, use:\n",
      "  %reload_ext autoreload\n"
     ]
    }
   ],
   "source": [
    "%load_ext autoreload\n",
    "%autoreload 2\n",
    "\n",
    "# necessary imports \n",
    "import configparser\n",
    "import os\n",
    "import sys\n",
    "import pandas as pd\n",
    "import sqlite3\n",
    "import datetime\n",
    "\n",
    "from pathlib import Path\n",
    "\n",
    "# for my custom functions\n",
    "sys.path.insert(0, '../')\n",
    "import src.data_extraction as de"
   ]
  },
  {
   "cell_type": "code",
   "execution_count": 11,
   "metadata": {},
   "outputs": [
    {
     "data": {
      "text/plain": [
       "['../src/config.ini']"
      ]
     },
     "execution_count": 11,
     "metadata": {},
     "output_type": "execute_result"
    }
   ],
   "source": [
    "# pull some variables, paths, and other from a central config.ini file\n",
    "config = configparser.ConfigParser()\n",
    "config.read('../src/config.ini')"
   ]
  },
  {
   "cell_type": "code",
   "execution_count": 12,
   "metadata": {},
   "outputs": [],
   "source": [
    "# for file saving\n",
    "today = datetime.datetime.now()\n",
    "today = today.strftime(\"%Y_%m_%d\")\n",
    "\n",
    "# the output path is specified in the config.ini file\n",
    "output = Path(config['paths']['output'])\n",
    "\n",
    "# I plan on at least collecting data from 2022 to 2024\n",
    "yearly_directories = [Path(output/f\"mls_{year}\") for year in range(2022,2025)]\n",
    "\n",
    "# create output directory and sub-directories if doesnt exist\n",
    "for directory in yearly_directories+[output]:\n",
    "    try:\n",
    "        assert directory.exists()\n",
    "    except:\n",
    "        os.mkdir(directory)"
   ]
  },
  {
   "cell_type": "markdown",
   "metadata": {},
   "source": [
    "# Current Season - 2024"
   ]
  },
  {
   "cell_type": "markdown",
   "metadata": {},
   "source": [
    "## Setup"
   ]
  },
  {
   "cell_type": "code",
   "execution_count": 4,
   "metadata": {},
   "outputs": [],
   "source": [
    "# start with a url that looks like this page. It will automatically grab/generate associated URLs\n",
    "# for each team and player\n",
    "base_url = 'https://fbref.com/en/comps/22/Major-League-Soccer-Stats'"
   ]
  },
  {
   "cell_type": "code",
   "execution_count": null,
   "metadata": {},
   "outputs": [],
   "source": [
    "# Pulls team names, player names, and associated urls needed for the associated season\n",
    "# Both the all_teams_df and all_players_df is saved with the current date appended at the end\n",
    "\n",
    "# year = current season year\n",
    "# all_teams_df = dataframe of associated team names and associated URLs for the associated season\n",
    "# all_players_df = dataframe of associated player names, position, team, and URLs for the associated season\n",
    "year, all_teams_df, all_players_df = de.get_teams_and_players('https://fbref.com/en/comps/22/Major-League-Soccer-Stats')"
   ]
  },
  {
   "cell_type": "code",
   "execution_count": 6,
   "metadata": {},
   "outputs": [
    {
     "data": {
      "text/plain": [
       "'2024'"
      ]
     },
     "execution_count": 6,
     "metadata": {},
     "output_type": "execute_result"
    }
   ],
   "source": [
    "year"
   ]
  },
  {
   "cell_type": "code",
   "execution_count": 7,
   "metadata": {},
   "outputs": [
    {
     "data": {
      "text/html": [
       "<div>\n",
       "<style scoped>\n",
       "    .dataframe tbody tr th:only-of-type {\n",
       "        vertical-align: middle;\n",
       "    }\n",
       "\n",
       "    .dataframe tbody tr th {\n",
       "        vertical-align: top;\n",
       "    }\n",
       "\n",
       "    .dataframe thead th {\n",
       "        text-align: right;\n",
       "    }\n",
       "</style>\n",
       "<table border=\"1\" class=\"dataframe\">\n",
       "  <thead>\n",
       "    <tr style=\"text-align: right;\">\n",
       "      <th></th>\n",
       "      <th>team</th>\n",
       "      <th>team_url</th>\n",
       "      <th>season</th>\n",
       "    </tr>\n",
       "  </thead>\n",
       "  <tbody>\n",
       "    <tr>\n",
       "      <th>0</th>\n",
       "      <td>Inter Miami</td>\n",
       "      <td>https://fbref.com/en/squads/cb8b86a2/Inter-Mia...</td>\n",
       "      <td>2024</td>\n",
       "    </tr>\n",
       "    <tr>\n",
       "      <th>1</th>\n",
       "      <td>Columbus Crew</td>\n",
       "      <td>https://fbref.com/en/squads/529ba333/Columbus-...</td>\n",
       "      <td>2024</td>\n",
       "    </tr>\n",
       "    <tr>\n",
       "      <th>2</th>\n",
       "      <td>FC Cincinnati</td>\n",
       "      <td>https://fbref.com/en/squads/e9ea41b2/FC-Cincin...</td>\n",
       "      <td>2024</td>\n",
       "    </tr>\n",
       "    <tr>\n",
       "      <th>3</th>\n",
       "      <td>Orlando City</td>\n",
       "      <td>https://fbref.com/en/squads/46ef01d0/Orlando-C...</td>\n",
       "      <td>2024</td>\n",
       "    </tr>\n",
       "    <tr>\n",
       "      <th>4</th>\n",
       "      <td>Charlotte</td>\n",
       "      <td>https://fbref.com/en/squads/eb57545a/Charlotte...</td>\n",
       "      <td>2024</td>\n",
       "    </tr>\n",
       "    <tr>\n",
       "      <th>5</th>\n",
       "      <td>NYCFC</td>\n",
       "      <td>https://fbref.com/en/squads/64e81410/New-York-...</td>\n",
       "      <td>2024</td>\n",
       "    </tr>\n",
       "    <tr>\n",
       "      <th>6</th>\n",
       "      <td>NY Red Bulls</td>\n",
       "      <td>https://fbref.com/en/squads/69a0fb10/New-York-...</td>\n",
       "      <td>2024</td>\n",
       "    </tr>\n",
       "    <tr>\n",
       "      <th>7</th>\n",
       "      <td>CF Montréal</td>\n",
       "      <td>https://fbref.com/en/squads/fc22273c/CF-Montre...</td>\n",
       "      <td>2024</td>\n",
       "    </tr>\n",
       "    <tr>\n",
       "      <th>8</th>\n",
       "      <td>Atlanta Utd</td>\n",
       "      <td>https://fbref.com/en/squads/1ebc1a5b/Atlanta-U...</td>\n",
       "      <td>2024</td>\n",
       "    </tr>\n",
       "    <tr>\n",
       "      <th>9</th>\n",
       "      <td>D.C. United</td>\n",
       "      <td>https://fbref.com/en/squads/44117292/DC-United...</td>\n",
       "      <td>2024</td>\n",
       "    </tr>\n",
       "    <tr>\n",
       "      <th>10</th>\n",
       "      <td>Toronto FC</td>\n",
       "      <td>https://fbref.com/en/squads/130f43fa/Toronto-F...</td>\n",
       "      <td>2024</td>\n",
       "    </tr>\n",
       "    <tr>\n",
       "      <th>11</th>\n",
       "      <td>Philadelphia Union</td>\n",
       "      <td>https://fbref.com/en/squads/46024eeb/Philadelp...</td>\n",
       "      <td>2024</td>\n",
       "    </tr>\n",
       "    <tr>\n",
       "      <th>12</th>\n",
       "      <td>Nashville SC</td>\n",
       "      <td>https://fbref.com/en/squads/35f1b818/Nashville...</td>\n",
       "      <td>2024</td>\n",
       "    </tr>\n",
       "    <tr>\n",
       "      <th>13</th>\n",
       "      <td>NE Revolution</td>\n",
       "      <td>https://fbref.com/en/squads/3c079def/New-Engla...</td>\n",
       "      <td>2024</td>\n",
       "    </tr>\n",
       "    <tr>\n",
       "      <th>14</th>\n",
       "      <td>Chicago Fire</td>\n",
       "      <td>https://fbref.com/en/squads/f9940243/Chicago-F...</td>\n",
       "      <td>2024</td>\n",
       "    </tr>\n",
       "    <tr>\n",
       "      <th>15</th>\n",
       "      <td>LAFC</td>\n",
       "      <td>https://fbref.com/en/squads/81d817a3/Los-Angel...</td>\n",
       "      <td>2024</td>\n",
       "    </tr>\n",
       "    <tr>\n",
       "      <th>16</th>\n",
       "      <td>LA Galaxy</td>\n",
       "      <td>https://fbref.com/en/squads/d8b46897/LA-Galaxy...</td>\n",
       "      <td>2024</td>\n",
       "    </tr>\n",
       "    <tr>\n",
       "      <th>17</th>\n",
       "      <td>Real Salt Lake</td>\n",
       "      <td>https://fbref.com/en/squads/f7d86a43/Real-Salt...</td>\n",
       "      <td>2024</td>\n",
       "    </tr>\n",
       "    <tr>\n",
       "      <th>18</th>\n",
       "      <td>Seattle Sounders FC</td>\n",
       "      <td>https://fbref.com/en/squads/6218ebd4/Seattle-S...</td>\n",
       "      <td>2024</td>\n",
       "    </tr>\n",
       "    <tr>\n",
       "      <th>19</th>\n",
       "      <td>Houston Dynamo</td>\n",
       "      <td>https://fbref.com/en/squads/0d885416/Houston-D...</td>\n",
       "      <td>2024</td>\n",
       "    </tr>\n",
       "    <tr>\n",
       "      <th>20</th>\n",
       "      <td>Minnesota Utd</td>\n",
       "      <td>https://fbref.com/en/squads/99ea75a6/Minnesota...</td>\n",
       "      <td>2024</td>\n",
       "    </tr>\n",
       "    <tr>\n",
       "      <th>21</th>\n",
       "      <td>Colorado Rapids</td>\n",
       "      <td>https://fbref.com/en/squads/415b4465/Colorado-...</td>\n",
       "      <td>2024</td>\n",
       "    </tr>\n",
       "    <tr>\n",
       "      <th>22</th>\n",
       "      <td>Vancouver W'caps</td>\n",
       "      <td>https://fbref.com/en/squads/ab41cb90/Vancouver...</td>\n",
       "      <td>2024</td>\n",
       "    </tr>\n",
       "    <tr>\n",
       "      <th>23</th>\n",
       "      <td>Portland Timbers</td>\n",
       "      <td>https://fbref.com/en/squads/d076914e/Portland-...</td>\n",
       "      <td>2024</td>\n",
       "    </tr>\n",
       "    <tr>\n",
       "      <th>24</th>\n",
       "      <td>Austin</td>\n",
       "      <td>https://fbref.com/en/squads/b918956d/Austin-FC...</td>\n",
       "      <td>2024</td>\n",
       "    </tr>\n",
       "    <tr>\n",
       "      <th>25</th>\n",
       "      <td>FC Dallas</td>\n",
       "      <td>https://fbref.com/en/squads/15cf8f40/FC-Dallas...</td>\n",
       "      <td>2024</td>\n",
       "    </tr>\n",
       "    <tr>\n",
       "      <th>26</th>\n",
       "      <td>St. Louis</td>\n",
       "      <td>https://fbref.com/en/squads/bd97ac1f/St-Louis-...</td>\n",
       "      <td>2024</td>\n",
       "    </tr>\n",
       "    <tr>\n",
       "      <th>27</th>\n",
       "      <td>Sporting KC</td>\n",
       "      <td>https://fbref.com/en/squads/4acb0537/Sporting-...</td>\n",
       "      <td>2024</td>\n",
       "    </tr>\n",
       "    <tr>\n",
       "      <th>28</th>\n",
       "      <td>SJ Earthquakes</td>\n",
       "      <td>https://fbref.com/en/squads/ca460650/San-Jose-...</td>\n",
       "      <td>2024</td>\n",
       "    </tr>\n",
       "  </tbody>\n",
       "</table>\n",
       "</div>"
      ],
      "text/plain": [
       "                   team                                           team_url  \\\n",
       "0           Inter Miami  https://fbref.com/en/squads/cb8b86a2/Inter-Mia...   \n",
       "1         Columbus Crew  https://fbref.com/en/squads/529ba333/Columbus-...   \n",
       "2         FC Cincinnati  https://fbref.com/en/squads/e9ea41b2/FC-Cincin...   \n",
       "3          Orlando City  https://fbref.com/en/squads/46ef01d0/Orlando-C...   \n",
       "4             Charlotte  https://fbref.com/en/squads/eb57545a/Charlotte...   \n",
       "5                 NYCFC  https://fbref.com/en/squads/64e81410/New-York-...   \n",
       "6          NY Red Bulls  https://fbref.com/en/squads/69a0fb10/New-York-...   \n",
       "7           CF Montréal  https://fbref.com/en/squads/fc22273c/CF-Montre...   \n",
       "8           Atlanta Utd  https://fbref.com/en/squads/1ebc1a5b/Atlanta-U...   \n",
       "9           D.C. United  https://fbref.com/en/squads/44117292/DC-United...   \n",
       "10           Toronto FC  https://fbref.com/en/squads/130f43fa/Toronto-F...   \n",
       "11   Philadelphia Union  https://fbref.com/en/squads/46024eeb/Philadelp...   \n",
       "12         Nashville SC  https://fbref.com/en/squads/35f1b818/Nashville...   \n",
       "13        NE Revolution  https://fbref.com/en/squads/3c079def/New-Engla...   \n",
       "14         Chicago Fire  https://fbref.com/en/squads/f9940243/Chicago-F...   \n",
       "15                 LAFC  https://fbref.com/en/squads/81d817a3/Los-Angel...   \n",
       "16            LA Galaxy  https://fbref.com/en/squads/d8b46897/LA-Galaxy...   \n",
       "17       Real Salt Lake  https://fbref.com/en/squads/f7d86a43/Real-Salt...   \n",
       "18  Seattle Sounders FC  https://fbref.com/en/squads/6218ebd4/Seattle-S...   \n",
       "19       Houston Dynamo  https://fbref.com/en/squads/0d885416/Houston-D...   \n",
       "20        Minnesota Utd  https://fbref.com/en/squads/99ea75a6/Minnesota...   \n",
       "21      Colorado Rapids  https://fbref.com/en/squads/415b4465/Colorado-...   \n",
       "22     Vancouver W'caps  https://fbref.com/en/squads/ab41cb90/Vancouver...   \n",
       "23     Portland Timbers  https://fbref.com/en/squads/d076914e/Portland-...   \n",
       "24               Austin  https://fbref.com/en/squads/b918956d/Austin-FC...   \n",
       "25            FC Dallas  https://fbref.com/en/squads/15cf8f40/FC-Dallas...   \n",
       "26            St. Louis  https://fbref.com/en/squads/bd97ac1f/St-Louis-...   \n",
       "27          Sporting KC  https://fbref.com/en/squads/4acb0537/Sporting-...   \n",
       "28       SJ Earthquakes  https://fbref.com/en/squads/ca460650/San-Jose-...   \n",
       "\n",
       "   season  \n",
       "0    2024  \n",
       "1    2024  \n",
       "2    2024  \n",
       "3    2024  \n",
       "4    2024  \n",
       "5    2024  \n",
       "6    2024  \n",
       "7    2024  \n",
       "8    2024  \n",
       "9    2024  \n",
       "10   2024  \n",
       "11   2024  \n",
       "12   2024  \n",
       "13   2024  \n",
       "14   2024  \n",
       "15   2024  \n",
       "16   2024  \n",
       "17   2024  \n",
       "18   2024  \n",
       "19   2024  \n",
       "20   2024  \n",
       "21   2024  \n",
       "22   2024  \n",
       "23   2024  \n",
       "24   2024  \n",
       "25   2024  \n",
       "26   2024  \n",
       "27   2024  \n",
       "28   2024  "
      ]
     },
     "execution_count": 7,
     "metadata": {},
     "output_type": "execute_result"
    }
   ],
   "source": [
    "all_teams_df"
   ]
  },
  {
   "cell_type": "code",
   "execution_count": 8,
   "metadata": {},
   "outputs": [
    {
     "data": {
      "text/html": [
       "<div>\n",
       "<style scoped>\n",
       "    .dataframe tbody tr th:only-of-type {\n",
       "        vertical-align: middle;\n",
       "    }\n",
       "\n",
       "    .dataframe tbody tr th {\n",
       "        vertical-align: top;\n",
       "    }\n",
       "\n",
       "    .dataframe thead th {\n",
       "        text-align: right;\n",
       "    }\n",
       "</style>\n",
       "<table border=\"1\" class=\"dataframe\">\n",
       "  <thead>\n",
       "    <tr style=\"text-align: right;\">\n",
       "      <th></th>\n",
       "      <th>player_name</th>\n",
       "      <th>player_url</th>\n",
       "      <th>position</th>\n",
       "      <th>team</th>\n",
       "      <th>season</th>\n",
       "    </tr>\n",
       "  </thead>\n",
       "  <tbody>\n",
       "    <tr>\n",
       "      <th>0</th>\n",
       "      <td>Drake Callender</td>\n",
       "      <td>https://fbref.com/en/players/c4d9567d/Drake-Ca...</td>\n",
       "      <td>GK</td>\n",
       "      <td>Inter Miami</td>\n",
       "      <td>2024</td>\n",
       "    </tr>\n",
       "    <tr>\n",
       "      <th>1</th>\n",
       "      <td>Julian Gressel</td>\n",
       "      <td>https://fbref.com/en/players/acd47bc0/Julian-G...</td>\n",
       "      <td>MF,FW</td>\n",
       "      <td>Inter Miami</td>\n",
       "      <td>2024</td>\n",
       "    </tr>\n",
       "    <tr>\n",
       "      <th>2</th>\n",
       "      <td>Sergio Busquets</td>\n",
       "      <td>https://fbref.com/en/players/5ab0ea87/Sergio-B...</td>\n",
       "      <td>MF,DF</td>\n",
       "      <td>Inter Miami</td>\n",
       "      <td>2024</td>\n",
       "    </tr>\n",
       "    <tr>\n",
       "      <th>3</th>\n",
       "      <td>Tomás Avilés</td>\n",
       "      <td>https://fbref.com/en/players/f51b9ae1/Tomas-Av...</td>\n",
       "      <td>DF</td>\n",
       "      <td>Inter Miami</td>\n",
       "      <td>2024</td>\n",
       "    </tr>\n",
       "    <tr>\n",
       "      <th>4</th>\n",
       "      <td>Jordi Alba</td>\n",
       "      <td>https://fbref.com/en/players/4601e194/Jordi-Alba</td>\n",
       "      <td>DF</td>\n",
       "      <td>Inter Miami</td>\n",
       "      <td>2024</td>\n",
       "    </tr>\n",
       "    <tr>\n",
       "      <th>...</th>\n",
       "      <td>...</td>\n",
       "      <td>...</td>\n",
       "      <td>...</td>\n",
       "      <td>...</td>\n",
       "      <td>...</td>\n",
       "    </tr>\n",
       "    <tr>\n",
       "      <th>938</th>\n",
       "      <td>Beau Leroux</td>\n",
       "      <td>https://fbref.com/en/players/6a9ab308/Beau-Leroux</td>\n",
       "      <td>MF</td>\n",
       "      <td>SJ Earthquakes</td>\n",
       "      <td>2024</td>\n",
       "    </tr>\n",
       "    <tr>\n",
       "      <th>939</th>\n",
       "      <td>Riley Lynch</td>\n",
       "      <td>https://fbref.com/en/players/9eb24ed6/Riley-Lynch</td>\n",
       "      <td>FW</td>\n",
       "      <td>SJ Earthquakes</td>\n",
       "      <td>2024</td>\n",
       "    </tr>\n",
       "    <tr>\n",
       "      <th>940</th>\n",
       "      <td>Cruz Medina</td>\n",
       "      <td>https://fbref.com/en/players/89d44509/Cruz-Medina</td>\n",
       "      <td>MF</td>\n",
       "      <td>SJ Earthquakes</td>\n",
       "      <td>2024</td>\n",
       "    </tr>\n",
       "    <tr>\n",
       "      <th>941</th>\n",
       "      <td>Emi Ochoa</td>\n",
       "      <td>https://fbref.com/en/players/30a08779/Emi-Ochoa</td>\n",
       "      <td>GK</td>\n",
       "      <td>SJ Earthquakes</td>\n",
       "      <td>2024</td>\n",
       "    </tr>\n",
       "    <tr>\n",
       "      <th>942</th>\n",
       "      <td>Casey Walls</td>\n",
       "      <td>https://fbref.com/en/players/c5cbbec9/Casey-Walls</td>\n",
       "      <td>DF</td>\n",
       "      <td>SJ Earthquakes</td>\n",
       "      <td>2024</td>\n",
       "    </tr>\n",
       "  </tbody>\n",
       "</table>\n",
       "<p>943 rows × 5 columns</p>\n",
       "</div>"
      ],
      "text/plain": [
       "         player_name                                         player_url  \\\n",
       "0    Drake Callender  https://fbref.com/en/players/c4d9567d/Drake-Ca...   \n",
       "1     Julian Gressel  https://fbref.com/en/players/acd47bc0/Julian-G...   \n",
       "2    Sergio Busquets  https://fbref.com/en/players/5ab0ea87/Sergio-B...   \n",
       "3       Tomás Avilés  https://fbref.com/en/players/f51b9ae1/Tomas-Av...   \n",
       "4         Jordi Alba   https://fbref.com/en/players/4601e194/Jordi-Alba   \n",
       "..               ...                                                ...   \n",
       "938      Beau Leroux  https://fbref.com/en/players/6a9ab308/Beau-Leroux   \n",
       "939      Riley Lynch  https://fbref.com/en/players/9eb24ed6/Riley-Lynch   \n",
       "940      Cruz Medina  https://fbref.com/en/players/89d44509/Cruz-Medina   \n",
       "941        Emi Ochoa    https://fbref.com/en/players/30a08779/Emi-Ochoa   \n",
       "942      Casey Walls  https://fbref.com/en/players/c5cbbec9/Casey-Walls   \n",
       "\n",
       "    position            team season  \n",
       "0         GK     Inter Miami   2024  \n",
       "1      MF,FW     Inter Miami   2024  \n",
       "2      MF,DF     Inter Miami   2024  \n",
       "3         DF     Inter Miami   2024  \n",
       "4         DF     Inter Miami   2024  \n",
       "..       ...             ...    ...  \n",
       "938       MF  SJ Earthquakes   2024  \n",
       "939       FW  SJ Earthquakes   2024  \n",
       "940       MF  SJ Earthquakes   2024  \n",
       "941       GK  SJ Earthquakes   2024  \n",
       "942       DF  SJ Earthquakes   2024  \n",
       "\n",
       "[943 rows x 5 columns]"
      ]
     },
     "execution_count": 8,
     "metadata": {},
     "output_type": "execute_result"
    }
   ],
   "source": [
    "all_players_df"
   ]
  },
  {
   "cell_type": "code",
   "execution_count": 9,
   "metadata": {},
   "outputs": [],
   "source": [
    "# The above dataframes are saved as csv files, but I will add them to a db\n",
    "# file as well here to refresh my SQL skills at some point.\n",
    "# I'm also doing this to share the db with some friends since they're more familiar\n",
    "# with SQL than Python.\n",
    "\n",
    "# set up connection\n",
    "con = sqlite3.connect(output / 'mls.db')\n",
    "cur = con.cursor()"
   ]
  },
  {
   "cell_type": "code",
   "execution_count": 10,
   "metadata": {},
   "outputs": [
    {
     "data": {
      "text/plain": [
       "29"
      ]
     },
     "execution_count": 10,
     "metadata": {},
     "output_type": "execute_result"
    }
   ],
   "source": [
    "# if_exists is set to 'append' since I can always remove duplicates if needed\n",
    "# I don't want to accidentally replace the entire table\n",
    "all_teams_df.to_sql(name='teams', con=con, if_exists='append', index=False)"
   ]
  },
  {
   "cell_type": "code",
   "execution_count": 11,
   "metadata": {},
   "outputs": [
    {
     "data": {
      "text/plain": [
       "943"
      ]
     },
     "execution_count": 11,
     "metadata": {},
     "output_type": "execute_result"
    }
   ],
   "source": [
    "all_players_df.to_sql(name='players', con=con, if_exists='append', index=False)"
   ]
  },
  {
   "cell_type": "markdown",
   "metadata": {},
   "source": [
    "## Scraping\n",
    "Each team takes me about 30-40 minutes to scrape since I am grabbing data from several URLs per player.\n",
    "\n",
    "The reason it takes so long is because the website limits bots to only a few calls per minute. I had to\n",
    "use *time.sleep()* to delay each extraction to not get temporarily or permanently banned :(\n",
    "\n",
    "For each player, it currently grabs the stats related for each of the associated tables on the web-page:\n",
    "* Summary\n",
    "* Passing\n",
    "* Pass Types\n",
    "* Goal and Shot Creation\n",
    "* Defensive Actions\n",
    "* Possession\n",
    "* Miscellaneous Stats\n",
    "\n",
    "As a result, I am running the scraping in chunks to make sure everything goes smoothly since it will take hours."
   ]
  },
  {
   "cell_type": "markdown",
   "metadata": {},
   "source": [
    "## Progress\n",
    "\n",
    "* ~~Inter Miami~~\n",
    "* ~~Columbus Crew~~\n",
    "* ~~FC Cincinnati~~\n",
    "* Orlando City\n",
    "* Charlotte\n",
    "* NYCFC\n",
    "* NY Red Bulls\n",
    "* CF Montréal\n",
    "* Atlanta Utd\n",
    "* D.C. United\n",
    "* Toronto FC\n",
    "* Philadelphia Union\n",
    "* Nashville SC\n",
    "* NE Revolution\n",
    "* Chicago Fire\n",
    "* LAFC\n",
    "* LA Galaxy\n",
    "* Real Salt Lake\n",
    "* Seattle Sounders FC\n",
    "* Houston Dynamo\n",
    "* Minnesota Utd\n",
    "* Colorado Rapids\n",
    "* Vancouver W'caps\n",
    "* Portland Timbers\n",
    "* Austin\n",
    "* FC Dallas\n",
    "* St. Louis\n",
    "* Sporting KC\n",
    "* SJ Earthquakes"
   ]
  },
  {
   "cell_type": "code",
   "execution_count": null,
   "metadata": {},
   "outputs": [],
   "source": [
    "# # this is to restart from here so you don't rerun the above\n",
    "# all_players_df = pd.read_csv(output / 'mls_2024/all_players_2024_12_08.csv')\n",
    "# all_teams_df = pd.read_csv(output / 'mls_2024/all_teams_2024_12_08.csv')\n",
    "# year = 2024"
   ]
  },
  {
   "cell_type": "code",
   "execution_count": 14,
   "metadata": {},
   "outputs": [],
   "source": [
    "current_teams = list(all_teams_df['team'].iloc[:3])\n",
    "filter = all_players_df.apply(lambda x: True if x['team'] in current_teams else False, axis=1)\n",
    "current_players = all_players_df[filter]"
   ]
  },
  {
   "cell_type": "code",
   "execution_count": null,
   "metadata": {},
   "outputs": [
    {
     "name": "stdout",
     "output_type": "stream",
     "text": [
      "|█████▏                                  | ▆▄▂ 13/102 [13%] in 14:21 (~1:38:00, "
     ]
    }
   ],
   "source": [
    "all_players_stats_df, failed_links = de.get_all_players_data(current_players, year)"
   ]
  },
  {
   "cell_type": "code",
   "execution_count": null,
   "metadata": {},
   "outputs": [],
   "source": []
  }
 ],
 "metadata": {
  "kernelspec": {
   "display_name": "FUTBOL",
   "language": "python",
   "name": "python3"
  },
  "language_info": {
   "codemirror_mode": {
    "name": "ipython",
    "version": 3
   },
   "file_extension": ".py",
   "mimetype": "text/x-python",
   "name": "python",
   "nbconvert_exporter": "python",
   "pygments_lexer": "ipython3",
   "version": "3.12.7"
  }
 },
 "nbformat": 4,
 "nbformat_minor": 2
}
