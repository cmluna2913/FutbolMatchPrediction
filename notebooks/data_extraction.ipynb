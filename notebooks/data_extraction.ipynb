{
 "cells": [
  {
   "cell_type": "markdown",
   "metadata": {},
   "source": [
    "The point of this notebook is to web-scrape MLS data for years 2022 through 2024.\n",
    "I found a pretty useful set on Kaggle, covering years 1996 - 2022.\n",
    "I included 2022 in the web-scraping to get a better understanding of how to fit 2023 and\n",
    "2024 data to the existing set. I haven't completed scraping all the data I want, so currently\n",
    "this data is not included when creating my initial models."
   ]
  },
  {
   "cell_type": "markdown",
   "metadata": {},
   "source": [
    "# Essential Libraries + Other"
   ]
  },
  {
   "cell_type": "code",
   "execution_count": 1,
   "metadata": {},
   "outputs": [],
   "source": [
    "%load_ext autoreload\n",
    "\n",
    "%autoreload 2\n",
    "\n",
    "import configparser\n",
    "import os\n",
    "import time\n",
    "import random\n",
    "import pandas as pd\n",
    "import requests\n",
    "import openpyxl\n",
    "import sqlite3\n",
    "\n",
    "from io import StringIO\n",
    "from pathlib import Path\n",
    "from bs4 import BeautifulSoup\n",
    "from alive_progress import alive_bar\n",
    "\n",
    "# some stuff I set up in a config file so I don't have to keep updating certain\n",
    "# variables in every script\n",
    "config = configparser.ConfigParser()\n",
    "config.read('../src/config.ini')\n",
    "\n",
    "config = configparser.ConfigParser()\n",
    "config.read('../src/config.ini')\n",
    "\n",
    "# the output path is specified in the config.ini file\n",
    "output = Path(config['paths']['output'])\n",
    "# I want data for the 2022 through 2024 season\n",
    "yearly_directories = [Path(output/f\"mls_{year}\") for year in range(2022,2025)]\n",
    "\n",
    "# create output directory and sub-directories if doesnt exist\n",
    "for directory in yearly_directories+[output]:\n",
    "    try:\n",
    "        assert directory.exists()\n",
    "    except:\n",
    "        os.mkdir(directory)"
   ]
  },
  {
   "cell_type": "markdown",
   "metadata": {},
   "source": [
    "# Starting Point"
   ]
  },
  {
   "cell_type": "code",
   "execution_count": 2,
   "metadata": {},
   "outputs": [],
   "source": [
    "# I will be web-scraping alot, so I made this function as a result\n",
    "\n",
    "def get_html_data(url, parser='html.parser') -> BeautifulSoup:\n",
    "    '''\n",
    "    Extract html data from specified url and return a bs4 object.\n",
    "    Parser can be specified if needed. Default is html.parser.\n",
    "    '''\n",
    "    response = requests.get(url)\n",
    "    html_content = response.text\n",
    "    soup = BeautifulSoup(html_content, parser)\n",
    "    \n",
    "    return soup"
   ]
  },
  {
   "cell_type": "code",
   "execution_count": 3,
   "metadata": {},
   "outputs": [],
   "source": [
    "# I ended up using this a lot in the end\n",
    "def get_table_data_from_html(soup) -> list:\n",
    "    '''\n",
    "    Extract tables from bs4 object and return a list of dataframes.\n",
    "    '''\n",
    "    \n",
    "    # get all tables in the html\n",
    "    tables = soup.findAll('table')\n",
    "\n",
    "    # create dfs for each table and append each one to a list\n",
    "    dfs_from_tables = []\n",
    "    for table in tables:\n",
    "        dfs_from_tables.append(pd.read_html(StringIO(str(table)))[0])\n",
    "    \n",
    "    return dfs_from_tables"
   ]
  },
  {
   "cell_type": "code",
   "execution_count": 4,
   "metadata": {},
   "outputs": [],
   "source": [
    "def get_all_player_match_data(excel_file_path) -> tuple[pd.DataFrame, list]:\n",
    "    '''\n",
    "    Input an excel file of the copied tables from the websites and return a tuple\n",
    "    where the first element is a dataframe of all player data and the second element\n",
    "    is a list of URLs where extraction failed. This attempts to extract data from\n",
    "    the failed URLs once more before completing.\n",
    "    '''\n",
    "    # get year from directory the excel file is in\n",
    "    year = os.path.dirname(excel_file_path).split('\\\\')[-1].replace('mls_', '')\n",
    "    # extract all links from the excel file\n",
    "    # returned as a df in case of future use with an idea I had\n",
    "    player_links = get_all_player_match_data_links(excel_file_path, year)\n",
    "    # initialize empty df for all player data\n",
    "    player_data_df = pd.DataFrame()\n",
    "    \n",
    "    # generate the initial player data df and failed links list\n",
    "    player_data_df, failed_links = generate_player_df(list(player_links['stat_link']), player_data_df)\n",
    "    \n",
    "    # if first round has failed links, retry them\n",
    "    # sometimes extracting the data the first time just doesn't work but rerunning usually does\n",
    "    if len(failed_links)>0:\n",
    "        player_data_df, failed_links = generate_player_df(failed_links, player_data_df)\n",
    "\n",
    "    return player_data_df, failed_links \n",
    "\n",
    "def generate_player_df(player_links, df=pd.DataFrame()) -> tuple[pd.DataFrame, list]:\n",
    "    '''\n",
    "    Given an iterable of individual player links (and a df to modify), return a tuple (DataFrame, list)\n",
    "    where the dataframe contains all player data and the list contains URLs with failed extractions.\n",
    "    '''\n",
    "    # get total number of players for alive_bar\n",
    "    total_players = len(player_links)\n",
    "    # to append failed links to a list\n",
    "    failed_links = []\n",
    "    \n",
    "    # progress bar, force_tty=True might be needed depending if animations don't show for you\n",
    "    # I used jupyter notebooks, so I needed this\n",
    "    with alive_bar(total_players, force_tty=True) as bar:\n",
    "        for player_url in player_links:\n",
    "            # limited to 10 requests a minute per website rules :(\n",
    "            # I set this as 7 seconds just to be safe but you can adjust as needed\n",
    "            # in the config file\n",
    "            time.sleep(int(config['other']['request_time_limit']))\n",
    "            \n",
    "            # if you get a player df, append it to df, otherwise add to failed links\n",
    "            temp_df = attempt_data_extraction(player_url)\n",
    "            if type(temp_df)==type(None):\n",
    "                failed_links.append(player_url)\n",
    "            else:\n",
    "                temp_df['player'] = player_url\n",
    "                df = pd.concat([df, temp_df], ignore_index=True)\n",
    "            bar()\n",
    "    # return df and failed links\n",
    "    return df, failed_links\n",
    "\n",
    "def attempt_data_extraction(url) -> pd.DataFrame | None:\n",
    "    '''\n",
    "    Attempt to get a player data dataframe. Return the df if successful,\n",
    "    otherwise return None.\n",
    "    '''\n",
    "    # try to get a player_df and return it\n",
    "    try:\n",
    "        player_df = get_player_data_df(url)\n",
    "        return player_df\n",
    "    # otherwise, let the user know and return nothing\n",
    "    except:\n",
    "        print(f\"Could not get player data for {url}\")\n",
    "        return None\n",
    "\n",
    "def get_all_player_match_data_links(excel_file_path, year) -> pd.DataFrame:\n",
    "    '''\n",
    "    Extract all links from the excel that is a copy of the website data. Return\n",
    "    a dataframe of the player names and URLs.\n",
    "    '''\n",
    "    # read excel file\n",
    "    all_players = pd.read_excel(excel_file_path)\n",
    "    wb = openpyxl.load_workbook(excel_file_path)\n",
    "    sheets = wb.sheetnames\n",
    "    ws = wb[sheets[0]]\n",
    "    # get hyper links from file\n",
    "    # in this situation, links didn't start until +2 and are found in column 37\n",
    "    # this may need to be adjusted depending on how the data comes out\n",
    "    all_players['stat_link'] = [ws.cell(row=i+2, column=37).hyperlink.target for i in range(all_players.shape[0])]\n",
    "    # save all links out\n",
    "    all_players[['Player', 'stat_link']].to_csv(output/f'mls_{year}' / 'player_links.csv', index=False)\n",
    "    \n",
    "    # return df of just the player name and stat link\n",
    "    return all_players[['Player', 'stat_link']]\n",
    "    \n",
    "    \n",
    "def get_player_data_df(url) -> pd.DataFrame:\n",
    "    '''\n",
    "    Using the URL for the individual player, get the first table on the website\n",
    "    and return it as a dataframe.\n",
    "    '''\n",
    "    # get html data from url\n",
    "    player_data_html = get_html_data(url)\n",
    "    # generate tables list\n",
    "    player_df = get_table_data_from_html(player_data_html)\n",
    "    # add player url to data in first df in list\n",
    "    # the lists always had 1 df but would break unless I left it as-is\n",
    "    # player_df[0]['player'] = player_url\n",
    "    \n",
    "    return player_df[0]"
   ]
  },
  {
   "cell_type": "markdown",
   "metadata": {},
   "source": [
    "# Current Season - 2024"
   ]
  },
  {
   "cell_type": "code",
   "execution_count": 5,
   "metadata": {},
   "outputs": [],
   "source": [
    "# this url gives me a list of all players in the current league\n",
    "base_url = 'https://fbref.com/en/comps/22/Major-League-Soccer-Stats'\n",
    "\n",
    "# this page gives me a bunch of tables for team stats in the current moment\n",
    "# not sure how much of the data here will be useful, but I'll grab it just-in-case\n",
    "html = get_html_data(base_url + 'players/')"
   ]
  },
  {
   "cell_type": "code",
   "execution_count": 6,
   "metadata": {},
   "outputs": [],
   "source": [
    "team_stat_dfs = get_table_data_from_html(html)"
   ]
  },
  {
   "cell_type": "markdown",
   "metadata": {},
   "source": [
    "# Individual Player Data\n",
    "I had to copy and paste the \"Player Standard Stats\" table from this url (https://fbref.com/en/comps/22/stats/Major-League-Soccer-Stats) since I failed to do so with bs4. I saved it\n",
    "out as an excel file. I just want to extract the urls that go directly to the players stats."
   ]
  },
  {
   "cell_type": "code",
   "execution_count": null,
   "metadata": {},
   "outputs": [
    {
     "name": "stdout",
     "output_type": "stream",
     "text": [
      "on 0: Could not get player data for https://fbref.com/en/players/1339039e/matchlogs/2024/summary/Liel-Abada-Match-Logs\n",
      "on 1: Could not get player data for https://fbref.com/en/players/509eb2dc/matchlogs/2024/summary/Jose-Casas-de-Abadal-Match-Logs\n",
      "on 2: Could not get player data for https://fbref.com/en/players/1f462f95/matchlogs/2024/summary/Luis-Abram-Match-Logs\n",
      "on 3: Could not get player data for https://fbref.com/en/players/4a67f05b/matchlogs/2024/summary/Lalas-Abubakar-Match-Logs\n",
      "on 4: Could not get player data for https://fbref.com/en/players/ece10cfe/matchlogs/2024/summary/Kellyn-Acosta-Match-Logs\n",
      "on 5: Could not get player data for https://fbref.com/en/players/363ba6d7/matchlogs/2024/summary/Luciano-Acosta-Match-Logs\n",
      "on 6: Could not get player data for https://fbref.com/en/players/f1e19fad/matchlogs/2024/summary/Jordan-Adebayo-Smith-Match-Logs\n",
      "on 7: Could not get player data for https://fbref.com/en/players/7f2309be/matchlogs/2024/summary/Sam-Adekugbe-Match-Logs\n",
      "on 8: Could not get player data for https://fbref.com/en/players/86429529/matchlogs/2024/summary/Samuel-Adeniran-Match-Logs\n",
      "on 9: Could not get player data for https://fbref.com/en/players/86429529/matchlogs/2024/summary/Samuel-Adeniran-Match-Logs\n",
      "on 10: Could not get player data for https://fbref.com/en/players/06e75d19/matchlogs/2024/summary/Leonardo-Afonso-Match-Logs\n",
      "on 11: Could not get player data for https://fbref.com/en/players/cea02b5b/matchlogs/2024/summary/Stephen-Afrifa-Match-Logs\n",
      "on 12: Could not get player data for https://fbref.com/en/players/d2275b1b/matchlogs/2024/summary/William-Agada-Match-Logs\n",
      "on 13: Could not get player data for https://fbref.com/en/players/1a85309b/matchlogs/2024/summary/London-Aghedo-Match-Logs\n",
      "on 14: Could not get player data for https://fbref.com/en/players/ecc5063f/matchlogs/2024/summary/Daniel-Aguirre-Match-Logs\n",
      "on 15: Could not get player data for https://fbref.com/en/players/d987142b/matchlogs/2024/summary/Patrick-Agyemang-Match-Logs\n",
      "on 16: Could not get player data for https://fbref.com/en/players/540a5be1/matchlogs/2024/summary/Ali-Ahmed-Match-Logs\n",
      "on 17: Could not get player data for https://fbref.com/en/players/840f67fe/matchlogs/2024/summary/Forster-Ajago-Match-Logs\n",
      "on 18: Could not get player data for https://fbref.com/en/players/f2a68b97/matchlogs/2024/summary/Carlos-Akapo-Match-Logs\n",
      "on 19: Could not get player data for https://fbref.com/en/players/cfed08d5/matchlogs/2024/summary/Matai-Akinmboni-Match-Logs\n",
      "on 20: Could not get player data for https://fbref.com/en/players/214d2406/matchlogs/2024/summary/Ayo-Akinola-Match-Logs\n",
      "on 21: Could not get player data for https://fbref.com/en/players/4601e194/matchlogs/2024/summary/Jordi-Alba-Match-Logs\n",
      "on 22: Could not get player data for https://fbref.com/en/players/043f389a/matchlogs/2024/summary/Noah-Allen-Match-Logs\n",
      "on 23: Could not get player data for https://fbref.com/en/players/78506575/matchlogs/2024/summary/Rasmus-Alm-Match-Logs\n",
      "on 24: Could not get player data for https://fbref.com/en/players/27f33438/matchlogs/2024/summary/Thiago-Almada-Match-Logs\n",
      "on 25: Could not get player data for https://fbref.com/en/players/e2e96950/matchlogs/2024/summary/Fernando-Alvarez-Match-Logs\n",
      "on 26: Could not get player data for https://fbref.com/en/players/00dad262/matchlogs/2024/summary/Pedro-Amador-Match-Logs\n",
      "on 28: Could not get player data for https://fbref.com/en/players/83b6e15d/matchlogs/2024/summary/Malte-Amundsen-Match-Logs\n",
      "on 29: Could not get player data for https://fbref.com/en/players/c76e16c1/matchlogs/2024/summary/Markus-Anderson-Match-Logs\n",
      "on 30: Could not get player data for https://fbref.com/en/players/3a9911ce/matchlogs/2024/summary/Sebastian-Anderson-Match-Logs\n",
      "on 31: Could not get player data for https://fbref.com/en/players/c8364e8e/matchlogs/2024/summary/Jose-Andres-Martinez-Match-Logs\n",
      "on 32: Could not get player data for https://fbref.com/en/players/c7230a25/matchlogs/2024/summary/Tomas-Angel-Match-Logs\n",
      "on 33: Could not get player data for https://fbref.com/en/players/55a5d959/matchlogs/2024/summary/Ivan-Angulo-Match-Logs\n",
      "on 34: Could not get player data for https://fbref.com/en/players/cffc5348/matchlogs/2024/summary/Eugene-Ansah-Match-Logs\n",
      "on 35: Could not get player data for https://fbref.com/en/players/6396308d/matchlogs/2024/summary/Conner-Antley-Match-Logs\n",
      "on 36: Could not get player data for https://fbref.com/en/players/6a2381f7/matchlogs/2024/summary/Antony-Match-Logs\n",
      "on 37: Could not get player data for https://fbref.com/en/players/17b28ec7/matchlogs/2024/summary/Brian-Anunga-Match-Logs\n",
      "on 38: Could not get player data for https://fbref.com/en/players/fea9401e/matchlogs/2024/summary/Cristian-Arango-Match-Logs\n",
      "on 39: Could not get player data for https://fbref.com/en/players/3ed214ff/matchlogs/2024/summary/Cesar-Araujo-Match-Logs\n",
      "on 40: Could not get player data for https://fbref.com/en/players/cd891b5b/matchlogs/2024/summary/Miguel-Araujo-Match-Logs\n",
      "on 41: Could not get player data for https://fbref.com/en/players/b1313ec4/matchlogs/2024/summary/Scott-Arfield-Match-Logs\n",
      "on 42: Could not get player data for https://fbref.com/en/players/668f881e/matchlogs/2024/summary/Maximilian-Arfsten-Match-Logs\n",
      "on 43: Could not get player data for https://fbref.com/en/players/dbb2db3d/matchlogs/2024/summary/Allan-Arigoni-Match-Logs\n",
      "on 44: Could not get player data for https://fbref.com/en/players/078b2c07/matchlogs/2024/summary/Daniel-Armando-Rios-Match-Logs\n",
      "on 45: Could not get player data for https://fbref.com/en/players/97333cf5/matchlogs/2024/summary/Stuart-Armstrong-Match-Logs\n",
      "on 46: Could not get player data for https://fbref.com/en/players/7f2b7640/matchlogs/2024/summary/Xavier-Arreaga-Match-Logs\n",
      "on 47: Could not get player data for https://fbref.com/en/players/7f2b7640/matchlogs/2024/summary/Xavier-Arreaga-Match-Logs\n",
      "on 48: Could not get player data for https://fbref.com/en/players/4f8a9f70/matchlogs/2024/summary/Kervin-Arriaga-Match-Logs\n",
      "on 49: Could not get player data for https://fbref.com/en/players/1bb2acce/matchlogs/2024/summary/Paul-Arriola-Match-Logs\n",
      "on 50: Could not get player data for https://fbref.com/en/players/ea6803c7/matchlogs/2024/summary/Artur-Match-Logs\n",
      "on 51: Could not get player data for https://fbref.com/en/players/a444689a/matchlogs/2024/summary/Yamil-Asad-Match-Logs\n",
      "on 52: Could not get player data for https://fbref.com/en/players/218d336c/matchlogs/2024/summary/Dairon-Asprilla-Match-Logs\n",
      "on 53: Could not get player data for https://fbref.com/en/players/1f084637/matchlogs/2024/summary/Joshua-Atencio-Match-Logs\n",
      "on 54: Could not get player data for https://fbref.com/en/players/60990b81/matchlogs/2024/summary/Eduard-Atuesta-Match-Logs\n",
      "on 55: Could not get player data for https://fbref.com/en/players/4223d7bb/matchlogs/2024/summary/Julian-Aude-Match-Logs\n",
      "on 56: Could not get player data for https://fbref.com/en/players/f51b9ae1/matchlogs/2024/summary/Tomas-Aviles-Match-Logs\n",
      "on 57: Could not get player data for https://fbref.com/en/players/70d8e84c/matchlogs/2024/summary/Chidozie-Awaziem-Match-Logs\n",
      "on 58: Could not get player data for https://fbref.com/en/players/06dafc0e/matchlogs/2024/summary/David-Ayala-Match-Logs\n",
      "on 59: Could not get player data for https://fbref.com/en/players/fe0f4e7f/matchlogs/2024/summary/Hugo-Bacharach-Match-Logs\n",
      "on 60: Could not get player data for https://fbref.com/en/players/758ac389/matchlogs/2024/summary/Dominique-Badji-Match-Logs\n",
      "on 61: Could not get player data for https://fbref.com/en/players/2d0d1442/matchlogs/2024/summary/Corey-Baird-Match-Logs\n",
      "on 62: Could not get player data for https://fbref.com/en/players/dff24174/matchlogs/2024/summary/Esmir-Bajraktarevic-Match-Logs\n",
      "on 63: Could not get player data for https://fbref.com/en/players/fdffba5d/matchlogs/2024/summary/Cody-Baker-Match-Logs\n",
      "on 64: Could not get player data for https://fbref.com/en/players/816d7aec/matchlogs/2024/summary/Reed-Baker-Whiting-Match-Logs\n",
      "on 65: Could not get player data for https://fbref.com/en/players/8b379fcd/matchlogs/2024/summary/Monsef-Bakrar-Match-Logs\n",
      "on 66: Could not get player data for https://fbref.com/en/players/894b41c5/matchlogs/2024/summary/Michael-Baldisimo-Match-Logs\n",
      "on 67: Could not get player data for https://fbref.com/en/players/4abe30fa/matchlogs/2024/summary/Fidel-Barajas-Match-Logs\n",
      "on 68: Could not get player data for https://fbref.com/en/players/18a8e594/matchlogs/2024/summary/Tai-Baribo-Match-Logs\n",
      "on 69: Could not get player data for https://fbref.com/en/players/da4821de/matchlogs/2024/summary/Tom-Barlow-Match-Logs\n",
      "on 70: Could not get player data for https://fbref.com/en/players/e6f22a6b/matchlogs/2024/summary/Luis-Barraza-Match-Logs\n",
      "on 71: Could not get player data for https://fbref.com/en/players/c90615e6/matchlogs/2024/summary/Lucas-Bartlett-Match-Logs\n",
      "on 72: Could not get player data for https://fbref.com/en/players/552898bd/matchlogs/2024/summary/Ethan-Bartlow-Match-Logs\n",
      "on 73: Could not get player data for https://fbref.com/en/players/2c8da8a1/matchlogs/2024/summary/Cole-Bassett-Match-Logs\n",
      "on 74: Could not get player data for https://fbref.com/en/players/ced1d98f/matchlogs/2024/summary/Amine-Bassi-Match-Logs\n",
      "on 75: Could not get player data for https://fbref.com/en/players/6297d826/matchlogs/2024/summary/Zorhan-Bassong-Match-Logs\n",
      "on 76: Could not get player data for https://fbref.com/en/players/733aa9ec/matchlogs/2024/summary/Josh-Bauer-Match-Logs\n",
      "on 77: Could not get player data for https://fbref.com/en/players/3f1b018e/matchlogs/2024/summary/Tanner-Beason-Match-Logs\n",
      "on 78: Could not get player data for https://fbref.com/en/players/fc2d3741/matchlogs/2024/summary/Gavin-Beavers-Match-Logs\n",
      "on 79: Could not get player data for https://fbref.com/en/players/bc921182/matchlogs/2024/summary/Simon-Becher-Match-Logs\n",
      "on 80: Could not get player data for https://fbref.com/en/players/9a6f8dfd/matchlogs/2024/summary/Alejandro-Bedoya-Match-Logs\n",
      "on 81: Could not get player data for https://fbref.com/en/players/658a3134/matchlogs/2024/summary/Jon-Bell-Match-Logs\n",
      "on 82: Could not get player data for https://fbref.com/en/players/9d4677d7/matchlogs/2024/summary/Matthew-Bell-Match-Logs\n",
      "on 83: Could not get player data for https://fbref.com/en/players/bc307884/matchlogs/2024/summary/Ben-Bender-Match-Logs\n",
      "on 84: Could not get player data for https://fbref.com/en/players/ab070c55/matchlogs/2024/summary/Christian-Benteke-Match-Logs\n",
      "on 85: Could not get player data for https://fbref.com/en/players/5ea43134/matchlogs/2024/summary/Nimfasha-Berchimas-Match-Logs\n",
      "on 86: Could not get player data for https://fbref.com/en/players/f33ee427/matchlogs/2024/summary/Sebastian-Berhalter-Match-Logs\n",
      "on 87: Could not get player data for https://fbref.com/en/players/ee93c1a9/matchlogs/2024/summary/Federico-Bernardeschi-Match-Logs\n",
      "on 89: Could not get player data for https://fbref.com/en/players/1c59240b/matchlogs/2024/summary/Pep-Biel-Match-Logs\n",
      "on 90: Could not get player data for https://fbref.com/en/players/35835637/matchlogs/2024/summary/Alessandro-Biello-Match-Logs\n",
      "on 91: Could not get player data for https://fbref.com/en/players/26637ac8/matchlogs/2024/summary/Steve-Birnbaum-Match-Logs\n",
      "on 92: Could not get player data for https://fbref.com/en/players/02c7236e/matchlogs/2024/summary/Guilherme-Biro-Match-Logs\n",
      "on 93: Could not get player data for https://fbref.com/en/players/7f35d14e/matchlogs/2024/summary/Tristan-Blackmon-Match-Logs\n",
      "on 94: Could not get player data for https://fbref.com/en/players/b3b21a11/matchlogs/2024/summary/Andre-Blake-Match-Logs\n",
      "on 95: Could not get player data for https://fbref.com/en/players/5153d32e/matchlogs/2024/summary/Latif-Blessing-Match-Logs\n",
      "on 96: Could not get player data for https://fbref.com/en/players/a79b9e17/matchlogs/2024/summary/Njabulo-Blom-Match-Logs\n",
      "on 97: Could not get player data for https://fbref.com/en/players/25f77a5f/matchlogs/2024/summary/Emmanuel-Boateng-Match-Logs\n",
      "on 98: Could not get player data for https://fbref.com/en/players/a2c1d8c2/matchlogs/2024/summary/Mateusz-Bogusz-Match-Logs\n",
      "on 99: Could not get player data for https://fbref.com/en/players/c2f23fc8/matchlogs/2024/summary/Moise-Bombito-Match-Logs\n",
      "on 100: Could not get player data for https://fbref.com/en/players/aa28a396/matchlogs/2024/summary/Alex-Bono-Match-Logs\n",
      "on 101: Could not get player data for https://fbref.com/en/players/d338191d/matchlogs/2024/summary/Shanyder-Borgelin-Match-Logs\n",
      "on 102: Could not get player data for https://fbref.com/en/players/a72d14de/matchlogs/2024/summary/Dylan-Borrero-Match-Logs\n",
      "on 103: Could not get player data for https://fbref.com/en/players/0b0cbe5b/matchlogs/2024/summary/Denis-Bouanga-Match-Logs\n",
      "on 104: Could not get player data for https://fbref.com/en/players/0672f944/matchlogs/2024/summary/Ousseni-Bouda-Match-Logs\n",
      "on 105: Could not get player data for https://fbref.com/en/players/a025b8fb/matchlogs/2024/summary/Aaron-Boupendza-Match-Logs\n",
      "on 106: Could not get player data for https://fbref.com/en/players/51029ad2/matchlogs/2024/summary/Giuseppe-Bovalina-Match-Logs\n",
      "on 107: Could not get player data for https://fbref.com/en/players/6bfa0d3a/matchlogs/2024/summary/Michael-Boxall-Match-Logs\n",
      "on 108: Could not get player data for https://fbref.com/en/players/f4b1e26f/matchlogs/2024/summary/Tyler-Boyd-Match-Logs\n",
      "on 109: Could not get player data for https://fbref.com/en/players/a71768a2/matchlogs/2024/summary/Christopher-Brady-Match-Logs\n",
      "on 110: Could not get player data for https://fbref.com/en/players/503da80e/matchlogs/2024/summary/Alejandro-Bran-Match-Logs\n",
      "on 111: Could not get player data for https://fbref.com/en/players/5619c5e8/matchlogs/2024/summary/Claudio-Bravo-Match-Logs\n",
      "on 112: Could not get player data for https://fbref.com/en/players/fd594b15/matchlogs/2024/summary/David-Brekalo-Match-Logs\n",
      "on 113: Could not get player data for https://fbref.com/en/players/f6f4f7f0/matchlogs/2024/summary/Luke-Brennan-Match-Logs\n",
      "on 114: Could not get player data for https://fbref.com/en/players/52e7f812/matchlogs/2024/summary/Sebastian-Breza-Match-Logs\n",
      "on 115: Could not get player data for https://fbref.com/en/players/83b115d4/matchlogs/2024/summary/Yannick-Bright-Match-Logs\n",
      "on 116: Could not get player data for https://fbref.com/en/players/33e46323/matchlogs/2024/summary/Andrew-Brody-Match-Logs\n",
      "on 117: Could not get player data for https://fbref.com/en/players/bd4460b1/matchlogs/2024/summary/Brandt-Bronico-Match-Logs\n",
      "on 118: Could not get player data for https://fbref.com/en/players/25bd3ff0/matchlogs/2024/summary/Lachlan-Brook-Match-Logs\n",
      "on 119: Could not get player data for https://fbref.com/en/players/3d14c62e/matchlogs/2024/summary/Javain-Brown-Match-Logs\n",
      "on 120: Could not get player data for https://fbref.com/en/players/3d14c62e/matchlogs/2024/summary/Javain-Brown-Match-Logs\n",
      "on 121: Could not get player data for https://fbref.com/en/players/e947ee4a/matchlogs/2024/summary/Gaston-Brugman-Match-Logs\n",
      "on 122: Could not get player data for https://fbref.com/en/players/3235182a/matchlogs/2024/summary/Pavel-Bucha-Match-Logs\n",
      "on 123: Could not get player data for https://fbref.com/en/players/3d47c1ad/matchlogs/2024/summary/Noel-Buck-Match-Logs\n",
      "on 124: Could not get player data for https://fbref.com/en/players/8873ce45/matchlogs/2024/summary/Dawid-Bugaj-Match-Logs\n",
      "on 125: Could not get player data for https://fbref.com/en/players/eab85789/matchlogs/2024/summary/Osman-Bukari-Match-Logs\n",
      "on 126: Could not get player data for https://fbref.com/en/players/3077fce8/matchlogs/2024/summary/Teal-Bunbury-Match-Logs\n",
      "on 127: Could not get player data for https://fbref.com/en/players/39fde61c/matchlogs/2024/summary/Cory-Burke-Match-Logs\n",
      "on 128: Could not get player data for https://fbref.com/en/players/9d12e142/matchlogs/2024/summary/Roman-Burki-Match-Logs\n",
      "on 129: Could not get player data for https://fbref.com/en/players/69a57596/matchlogs/2024/summary/Evan-Bush-Match-Logs\n",
      "on 130: Could not get player data for https://fbref.com/en/players/5ab0ea87/matchlogs/2024/summary/Sergio-Busquets-Match-Logs\n",
      "on 131: Could not get player data for https://fbref.com/en/players/9fcd12af/matchlogs/2024/summary/Brandon-Bye-Match-Logs\n",
      "on 132: Could not get player data for https://fbref.com/en/players/c4041fbc/matchlogs/2024/summary/Nathan-Byrne-Match-Logs\n",
      "on 133: Could not get player data for https://fbref.com/en/players/42af215b/matchlogs/2024/summary/Kevin-Cabral-Match-Logs\n",
      "on 134: Could not get player data for https://fbref.com/en/players/e94d79e3/matchlogs/2024/summary/Martin-Caceres-Match-Logs\n",
      "on 135: Could not get player data for https://fbref.com/en/players/9bfa2f52/matchlogs/2024/summary/Deiber-Caicedo-Match-Logs\n",
      "on 136: Could not get player data for https://fbref.com/en/players/6d526838/matchlogs/2024/summary/Noel-Caliskan-Match-Logs\n",
      "on 137: Could not get player data for https://fbref.com/en/players/c4d9567d/matchlogs/2024/summary/Drake-Callender-Match-Logs\n",
      "on 138: Could not get player data for https://fbref.com/en/players/6ad16d47/matchlogs/2024/summary/Rudy-Camacho-Match-Logs\n",
      "on 139: Could not get player data for https://fbref.com/en/players/a31a5f0c/matchlogs/2024/summary/Brandon-Cambridge-Match-Logs\n",
      "on 140: Could not get player data for https://fbref.com/en/players/bf9c0749/matchlogs/2024/summary/Leonardo-Campana-Match-Logs\n",
      "on 141: Could not get player data for https://fbref.com/en/players/45e1a597/matchlogs/2024/summary/George-Campbell-Match-Logs\n",
      "on 142: Could not get player data for https://fbref.com/en/players/2a5ee788/matchlogs/2024/summary/Omar-Campos-Match-Logs\n",
      "on 143: Could not get player data for https://fbref.com/en/players/ad9ffc7e/matchlogs/2024/summary/Reggie-Cannon-Match-Logs\n",
      "on 144: Could not get player data for https://fbref.com/en/players/ec730d9a/matchlogs/2024/summary/Russell-Canouse-Match-Logs\n",
      "on 145: Could not get player data for https://fbref.com/en/players/a9af351a/matchlogs/2024/summary/Felipe-Carballo-Match-Logs\n",
      "on 146: Could not get player data for https://fbref.com/en/players/d4438745/matchlogs/2024/summary/Nathan-Cardoso-Match-Logs\n",
      "on 147: Could not get player data for https://fbref.com/en/players/cab97dd2/matchlogs/2024/summary/Wikelman-Carmona-Match-Logs\n",
      "on 148: Could not get player data for https://fbref.com/en/players/3e9ae1db/matchlogs/2024/summary/Julian-Carranza-Match-Logs\n",
      "on 149: Could not get player data for https://fbref.com/en/players/f087912d/matchlogs/2024/summary/Adalberto-Carrasquilla-Match-Logs\n",
      "on 150: Could not get player data for https://fbref.com/en/players/9f0f5d15/matchlogs/2024/summary/Wilder-Cartagena-Match-Logs\n",
      "on 151: Could not get player data for https://fbref.com/en/players/2ed8d81b/matchlogs/2024/summary/Javier-Casas-Match-Logs\n",
      "on 152: Could not get player data for https://fbref.com/en/players/cc120b4f/matchlogs/2024/summary/Julio-Cascante-Match-Logs\n",
      "on 153: Could not get player data for https://fbref.com/en/players/e620dcbb/matchlogs/2024/summary/Robert-Castellanos-Match-Logs\n",
      "on 154: Could not get player data for https://fbref.com/en/players/42ba8628/matchlogs/2024/summary/Roman-Celentano-Match-Logs\n",
      "on 155: Could not get player data for https://fbref.com/en/players/bd060315/matchlogs/2024/summary/Edwin-Cerrillo-Match-Logs\n",
      "on 156: Could not get player data for https://fbref.com/en/players/dbde4959/matchlogs/2024/summary/Dylan-Chambost-Match-Logs\n",
      "on 157: Could not get player data for https://fbref.com/en/players/317be364/matchlogs/2024/summary/Tomas-Chancalay-Match-Logs\n",
      "on 158: Could not get player data for https://fbref.com/en/players/04cc9edd/matchlogs/2024/summary/Maikel-Chang-Match-Logs\n",
      "on 159: Could not get player data for https://fbref.com/en/players/ca366055/matchlogs/2024/summary/Maxime-Chanot-Match-Logs\n",
      "on 160: Could not get player data for https://fbref.com/en/players/6260cc9d/matchlogs/2024/summary/Diego-Chara-Match-Logs\n",
      "on 161: Could not get player data for https://fbref.com/en/players/c37ce1ca/matchlogs/2024/summary/Gabriel-Chaves-Match-Logs\n",
      "on 162: Could not get player data for https://fbref.com/en/players/02fbc447/matchlogs/2024/summary/Yevhen-Cheberko-Match-Logs\n",
      "on 163: Could not get player data for https://fbref.com/en/players/017459bb/matchlogs/2024/summary/Mathieu-Choiniere-Match-Logs\n",
      "on 164: Could not get player data for https://fbref.com/en/players/d88ebbe9/matchlogs/2024/summary/Leo-Chu-Match-Logs\n",
      "on 165: Could not get player data for https://fbref.com/en/players/6e327d0d/matchlogs/2024/summary/Caden-Clark-Match-Logs\n",
      "on 166: Could not get player data for https://fbref.com/en/players/6e327d0d/matchlogs/2024/summary/Caden-Clark-Match-Logs\n",
      "on 167: Could not get player data for https://fbref.com/en/players/ed6320b7/matchlogs/2024/summary/Steve-Clark-Match-Logs\n",
      "on 168: Could not get player data for https://fbref.com/en/players/4c46e404/matchlogs/2024/summary/Noah-Cobb-Match-Logs\n",
      "on 169: Could not get player data for https://fbref.com/en/players/caed0767/matchlogs/2024/summary/Matias-Coccaro-Match-Logs\n",
      "on 170: Could not get player data for https://fbref.com/en/players/00eb5be4/matchlogs/2024/summary/Alonso-Coello-Match-Logs\n",
      "on 171: Could not get player data for https://fbref.com/en/players/75c2e240/matchlogs/2024/summary/Josh-Cohen-Match-Logs\n",
      "on 172: Could not get player data for https://fbref.com/en/players/a535dbc6/matchlogs/2024/summary/Enzo-Copetti-Match-Logs\n",
      "on 173: Could not get player data for https://fbref.com/en/players/091795f2/matchlogs/2024/summary/Gabriele-Corbo-Match-Logs\n",
      "on 174: Could not get player data for https://fbref.com/en/players/5c07e176/matchlogs/2024/summary/Carlos-Coronel-Match-Logs\n",
      "on 175: Could not get player data for https://fbref.com/en/players/e28ae695/matchlogs/2024/summary/Vitor-Costa-Match-Logs\n",
      "on 176: Could not get player data for https://fbref.com/en/players/03a446a2/matchlogs/2024/summary/Ben-Cremaschi-Match-Logs\n",
      "on 177: Could not get player data for https://fbref.com/en/players/ea42e480/matchlogs/2024/summary/Maxime-Crepeau-Match-Logs\n",
      "on 178: Could not get player data for https://fbref.com/en/players/43f5d4e6/matchlogs/2024/summary/Matt-Crooks-Match-Logs\n",
      "on 179: Could not get player data for https://fbref.com/en/players/9b40a6ea/matchlogs/2024/summary/Andres-Cubas-Match-Logs\n",
      "on 180: Could not get player data for https://fbref.com/en/players/71b47ab9/matchlogs/2024/summary/Cucho-Match-Logs\n",
      "on 181: Could not get player data for https://fbref.com/en/players/cf4f1eb9/matchlogs/2024/summary/Mauricio-Cuevas-Match-Logs\n",
      "on 182: Could not get player data for https://fbref.com/en/players/9f417f8c/matchlogs/2024/summary/Hugo-Cuypers-Match-Logs\n",
      "on 183: Could not get player data for https://fbref.com/en/players/b0a0698b/matchlogs/2024/summary/Rafael-Czichos-Match-Logs\n",
      "on 184: Could not get player data for https://fbref.com/en/players/a065e877/matchlogs/2024/summary/Cristian-Dajome-Match-Logs\n",
      "on 185: Could not get player data for https://fbref.com/en/players/c350e7d5/matchlogs/2024/summary/Dagur-Dan-Thorhallsson-Match-Logs\n",
      "on 186: Could not get player data for https://fbref.com/en/players/636fc976/matchlogs/2024/summary/Daniel-Match-Logs\n",
      "on 187: Could not get player data for https://fbref.com/en/players/b5687b08/matchlogs/2024/summary/Jesus-Daniel-Bueno-Match-Logs\n",
      "on 188: Could not get player data for https://fbref.com/en/players/03d0ea9a/matchlogs/2024/summary/Hector-David-Martinez-Match-Logs\n",
      "on 189: Could not get player data for https://fbref.com/en/players/bb18b3b6/matchlogs/2024/summary/Juan-David-Mosquera-Match-Logs\n",
      "on 190: Could not get player data for https://fbref.com/en/players/68d48a71/matchlogs/2024/summary/Jesus-David-Murillo-Match-Logs\n",
      "on 191: Could not get player data for https://fbref.com/en/players/891f8b82/matchlogs/2024/summary/Bode-Davis-Match-Logs\n",
      "on 192: Could not get player data for https://fbref.com/en/players/79d3a503/matchlogs/2024/summary/Jake-Davis-Match-Logs\n",
      "on 193: Could not get player data for https://fbref.com/en/players/cb75cac9/matchlogs/2024/summary/Sean-Davis-Match-Logs\n",
      "on 194: Could not get player data for https://fbref.com/en/players/ef6e8c5b/matchlogs/2024/summary/Pedro-De-la-Vega-Match-Logs\n",
      "on 195: Could not get player data for https://fbref.com/en/players/ed8c35d2/matchlogs/2024/summary/Jonathan-Dean-Match-Logs\n",
      "on 196: Could not get player data for https://fbref.com/en/players/4ca4f601/matchlogs/2024/summary/Brecht-Dejaegere-Match-Logs\n",
      "on 197: Could not get player data for https://fbref.com/en/players/7f6a25b7/matchlogs/2024/summary/Marky-Delgado-Match-Logs\n",
      "on 198: Could not get player data for https://fbref.com/en/players/79d49f47/matchlogs/2024/summary/Patrickson-Delgado-Match-Logs\n",
      "on 199: Could not get player data for https://fbref.com/en/players/1d5c96f8/matchlogs/2024/summary/Mikkel-Desler-Match-Logs\n",
      "on 200: Could not get player data for https://fbref.com/en/players/f4547573/matchlogs/2024/summary/Lamine-Diack-Match-Logs\n",
      "on 201: Could not get player data for https://fbref.com/en/players/4d095331/matchlogs/2024/summary/Djibril-Diani-Match-Logs\n",
      "on 202: Could not get player data for https://fbref.com/en/players/72072d80/matchlogs/2024/summary/Marcos-Dias-Match-Logs\n",
      "on 203: Could not get player data for https://fbref.com/en/players/ec27d954/matchlogs/2024/summary/Jefferson-Diaz-Match-Logs\n",
      "on 204: Could not get player data for https://fbref.com/en/players/82a10738/matchlogs/2024/summary/Ronald-Donkor-Match-Logs\n",
      "on 205: Could not get player data for https://fbref.com/en/players/8f995d10/matchlogs/2024/summary/Christopher-Donovan-Match-Logs\n",
      "on 206: Could not get player data for https://fbref.com/en/players/c182ca04/matchlogs/2024/summary/Griffin-Dorsey-Match-Logs\n",
      "on 207: Could not get player data for https://fbref.com/en/players/e329eaa6/matchlogs/2024/summary/CJ-dos-Santos-Match-Logs\n",
      "on 208: Could not get player data for https://fbref.com/en/players/8f2af1ed/matchlogs/2024/summary/Hassani-Dotson-Match-Logs\n",
      "on 209: Could not get player data for https://fbref.com/en/players/60e86875/matchlogs/2024/summary/Sebastian-Driussi-Match-Logs\n",
      "on 210: Could not get player data for https://fbref.com/en/players/6a8e0145/matchlogs/2024/summary/Erik-Duenas-Match-Logs\n",
      "on 211: Could not get player data for https://fbref.com/en/players/04391c12/matchlogs/2024/summary/Morris-Duggan-Match-Logs\n",
      "on 212: Could not get player data for https://fbref.com/en/players/59557625/matchlogs/2024/summary/Bryce-Duke-Match-Logs\n",
      "on 213: Could not get player data for https://fbref.com/en/players/575e6cb1/matchlogs/2024/summary/Kyle-Duncan-Match-Logs\n",
      "on 214: Could not get player data for https://fbref.com/en/players/0ffd4373/matchlogs/2024/summary/Chris-Durkin-Match-Logs\n",
      "on 215: Could not get player data for https://fbref.com/en/players/0b243559/matchlogs/2024/summary/Nikolas-Dyhr-Match-Logs\n",
      "on 216: Could not get player data for https://fbref.com/en/players/5fa7b2ec/matchlogs/2024/summary/Jeremy-Ebobisse-Match-Logs\n",
      "|██████████▋                             | ▃▅▇ 217/815 [27%] in 5:18:37 (~14:37:"
     ]
    }
   ],
   "source": [
    "player_data_2024_df, failed_links_2024 = get_all_player_match_data(config['paths']['all_players_2024'])"
   ]
  },
  {
   "cell_type": "code",
   "execution_count": 1,
   "metadata": {},
   "outputs": [
    {
     "ename": "NameError",
     "evalue": "name 'player_data_2024_df' is not defined",
     "output_type": "error",
     "traceback": [
      "\u001b[1;31m---------------------------------------------------------------------------\u001b[0m",
      "\u001b[1;31mNameError\u001b[0m                                 Traceback (most recent call last)",
      "Cell \u001b[1;32mIn[1], line 1\u001b[0m\n\u001b[1;32m----> 1\u001b[0m \u001b[43mplayer_data_2024_df\u001b[49m\n",
      "\u001b[1;31mNameError\u001b[0m: name 'player_data_2024_df' is not defined"
     ]
    }
   ],
   "source": [
    "player_data_2024_df"
   ]
  },
  {
   "cell_type": "code",
   "execution_count": null,
   "metadata": {},
   "outputs": [],
   "source": [
    "player_data_2024_df.to_csv(output/\"mls_2024\"/\"all_player_data_2024.csv\")"
   ]
  },
  {
   "cell_type": "markdown",
   "metadata": {},
   "source": [
    "# PRIOR YEARS\n",
    "I recommend running each year/season individually. At the time of creating this script,\n",
    "the website has a limit of 10 requests/minute. As a result, I had to stall with a timer\n",
    "of 7 seconds before running each request. This causes each year to take ~2 hours just to\n",
    "get the individual player performance data for each match. It would be best to finish\n",
    "tackling a year before moving onto the next. Depending on your PC, you might also need\n",
    "to take resources into account as well and save each year out before moving onto the next."
   ]
  },
  {
   "cell_type": "markdown",
   "metadata": {},
   "source": [
    "# 2023 Season"
   ]
  },
  {
   "cell_type": "code",
   "execution_count": null,
   "metadata": {},
   "outputs": [],
   "source": [
    "player_data_2023_df, failed_links_2023 = get_all_player_match_data(config['paths']['all_players_2023'])"
   ]
  },
  {
   "cell_type": "code",
   "execution_count": null,
   "metadata": {},
   "outputs": [],
   "source": [
    "player_data_2023_df"
   ]
  },
  {
   "cell_type": "code",
   "execution_count": null,
   "metadata": {},
   "outputs": [],
   "source": [
    "player_data_2023_df.to_csv(output/\"mls_2023\"/\"all_player_data_2023.csv\")"
   ]
  },
  {
   "cell_type": "markdown",
   "metadata": {},
   "source": [
    "# 2022 Season"
   ]
  },
  {
   "cell_type": "code",
   "execution_count": null,
   "metadata": {},
   "outputs": [
    {
     "name": "stdout",
     "output_type": "stream",
     "text": [
      "on 129: Could not get player data for https://fbref.com/en/players/1a160ea3/matchlogs/2022/summary/Geoff-Cameron-Match-Logs\n",
      "|████████████████████████████████████████| 784/784 [100%] in 1:43:27.9 (0.13/s) \n",
      "|████████████████████████████████████████| 1/1 [100%] in 7.8s (0.13/s)          \n"
     ]
    }
   ],
   "source": [
    "player_data_2022_df, failed_links_2022 = get_all_player_match_data(config['paths']['all_players_2022'])"
   ]
  },
  {
   "cell_type": "code",
   "execution_count": null,
   "metadata": {},
   "outputs": [],
   "source": [
    "player_data_2022_df"
   ]
  },
  {
   "cell_type": "code",
   "execution_count": null,
   "metadata": {},
   "outputs": [],
   "source": [
    "player_data_2022_df.to_csv(output/\"mls_2022\"/\"all_player_data_2022.csv\")"
   ]
  },
  {
   "cell_type": "markdown",
   "metadata": {},
   "source": [
    "# Sorting More\n",
    "Work in progress\n",
    "\n",
    "I'm injecting the data into a sqlite .db file since it's easy to share with my friends and they already have sqlite installed on their laptops"
   ]
  },
  {
   "cell_type": "code",
   "execution_count": null,
   "metadata": {},
   "outputs": [],
   "source": [
    "player_data_2022_df = pd.read_csv(config['paths']['all_player_data_2022'])\n",
    "player_data_2023_df = pd.read_csv(config['paths']['all_player_data_2023'])\n",
    "player_data_2024_df = pd.read_csv(config['paths']['all_player_data_2024'])"
   ]
  },
  {
   "cell_type": "code",
   "execution_count": null,
   "metadata": {},
   "outputs": [],
   "source": [
    "def get_general_match_data(df, year):\n",
    "    game_schedule_df = df[df['Unnamed: 2_level_0']=='MLS'].copy()\n",
    "    game_schedule_df = game_schedule_df[['Unnamed: 0_level_0', 'Unnamed: 1_level_0','Unnamed: 2_level_0', 'Unnamed: 3_level_0', 'Unnamed: 4_level_0', 'Unnamed: 6_level_0','Unnamed: 7_level_0', 'Unnamed: 5_level_0']]\n",
    "    game_schedule_df[game_schedule_df['Unnamed: 4_level_0']=='Home']\n",
    "    game_schedule_df['result'] = game_schedule_df['Unnamed: 5_level_0'].apply(lambda x: x.replace(' ', '–').replace('-','–').replace('(','').replace(')','').split('–'))\n",
    "    game_schedule_df['home_score'] = game_schedule_df['result'].apply(lambda x: int(x[1]))\n",
    "    game_schedule_df['away_score'] = game_schedule_df['result'].apply(lambda x: int(x[2]) if len(x)==3 else int(x[3]))\n",
    "    game_schedule_df['went_to_penalties'] = game_schedule_df['result'].apply(lambda x: 1 if len(x)==5 else 0)\n",
    "    game_schedule_df['home_penalties'] = game_schedule_df['result'].apply(lambda x: int(x[2]) if len(x)==5 else 0)\n",
    "    game_schedule_df['away_penalties'] = game_schedule_df['result'].apply(lambda x: int(x[4]) if len(x)==5 else 0)\n",
    "    game_schedule_df['result'] = game_schedule_df['result'].apply(lambda x: x[0])\n",
    "    game_schedule_df.drop_duplicates(inplace=True)\n",
    "    game_schedule_df['season'] = year\n",
    "    game_schedule_df.columns = ['game_date', 'day', 'league', 'round', 'ishome', 'home_team', 'away_team','result_raw', 'result', 'home_score', 'away_score', 'went_to_penalties', 'home_penalties', 'away_penalties', 'season_year']\n",
    "    return game_schedule_df[['game_date', 'day', 'league', 'round', 'home_team', 'away_team', 'result', 'home_score', 'away_score', 'went_to_penalties', 'home_penalties', 'away_penalties', 'season_year']]"
   ]
  },
  {
   "cell_type": "code",
   "execution_count": null,
   "metadata": {},
   "outputs": [],
   "source": [
    "game_schedule_2022 = get_general_match_data(player_data_2022_df, 2022)\n",
    "game_schedule_2023 = get_general_match_data(player_data_2023_df, 2023)\n",
    "game_schedule_2024 = get_general_match_data(player_data_2024_df, 2024)"
   ]
  },
  {
   "cell_type": "code",
   "execution_count": null,
   "metadata": {},
   "outputs": [],
   "source": [
    "game_schedule_2022.to_csv(output / 'mls_2022' /'match_schedule.csv')\n",
    "game_schedule_2023.to_csv(output / 'mls_2023' /'match_schedule.csv')\n",
    "game_schedule_2024.to_csv(output / 'mls_2024' /'match_schedule.csv')"
   ]
  },
  {
   "cell_type": "code",
   "execution_count": null,
   "metadata": {},
   "outputs": [
    {
     "data": {
      "text/plain": [
       "954"
      ]
     },
     "execution_count": 44,
     "metadata": {},
     "output_type": "execute_result"
    },
    {
     "ename": "",
     "evalue": "",
     "output_type": "error",
     "traceback": [
      "\u001b[1;31mThe Kernel crashed while executing code in the current cell or a previous cell. \n",
      "\u001b[1;31mPlease review the code in the cell(s) to identify a possible cause of the failure. \n",
      "\u001b[1;31mClick <a href='https://aka.ms/vscodeJupyterKernelCrash'>here</a> for more info. \n",
      "\u001b[1;31mView Jupyter <a href='command:jupyter.viewOutput'>log</a> for further details."
     ]
    }
   ],
   "source": [
    "conn = sqlite3.connect('../src/mls.db')\n",
    "game_schedule_2022.to_sql('match_schedules', conn, if_exists='append')\n",
    "game_schedule_2023.to_sql('match_schedules', conn, if_exists='append')\n",
    "game_schedule_2024.to_sql('match_schedules', conn, if_exists='append')"
   ]
  },
  {
   "cell_type": "code",
   "execution_count": null,
   "metadata": {},
   "outputs": [],
   "source": []
  }
 ],
 "metadata": {
  "kernelspec": {
   "display_name": "FUTBOL",
   "language": "python",
   "name": "python3"
  },
  "language_info": {
   "codemirror_mode": {
    "name": "ipython",
    "version": 3
   },
   "file_extension": ".py",
   "mimetype": "text/x-python",
   "name": "python",
   "nbconvert_exporter": "python",
   "pygments_lexer": "ipython3",
   "version": "3.12.7"
  }
 },
 "nbformat": 4,
 "nbformat_minor": 2
}
