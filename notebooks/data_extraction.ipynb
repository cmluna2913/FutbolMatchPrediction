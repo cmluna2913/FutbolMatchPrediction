{
 "cells": [
  {
   "cell_type": "markdown",
   "metadata": {},
   "source": [
    "The point of this notebook is to web-scrape MLS data for at least years 2022 through 2024.\n",
    "\n",
    "I found a pretty useful set on Kaggle, covering years 1996 - 2022.\n",
    "I included 2022 in the web-scraping to get a better understanding of how the web-scraping\n",
    "could possibly fit with that existing data. If possible, it would possibly save me some time\n",
    "on scraping. However, further exploration is required."
   ]
  },
  {
   "cell_type": "markdown",
   "metadata": {},
   "source": [
    "# Essential Libraries + Other"
   ]
  },
  {
   "cell_type": "code",
   "execution_count": 1,
   "metadata": {},
   "outputs": [],
   "source": [
    "%load_ext autoreload\n",
    "%autoreload 2\n",
    "\n",
    "# necessary imports \n",
    "import configparser\n",
    "import os\n",
    "import sys\n",
    "import pandas as pd\n",
    "import sqlite3\n",
    "import datetime\n",
    "\n",
    "from bs4 import BeautifulSoup\n",
    "from pathlib import Path\n",
    "\n",
    "# for my custom functions\n",
    "sys.path.insert(0, '../')\n",
    "import src.data_extraction as de"
   ]
  },
  {
   "cell_type": "code",
   "execution_count": 2,
   "metadata": {},
   "outputs": [
    {
     "data": {
      "text/plain": [
       "['../src/config.ini']"
      ]
     },
     "execution_count": 2,
     "metadata": {},
     "output_type": "execute_result"
    }
   ],
   "source": [
    "# pull some variables, paths, and other from a central config.ini file\n",
    "config = configparser.ConfigParser()\n",
    "config.read('../src/config.ini')"
   ]
  },
  {
   "cell_type": "code",
   "execution_count": 3,
   "metadata": {},
   "outputs": [],
   "source": [
    "# for file saving\n",
    "today = datetime.datetime.now()\n",
    "today = today.strftime(\"%Y_%m_%d\")\n",
    "\n",
    "# the output path is specified in the config.ini file\n",
    "output = Path(config['paths']['output'])\n",
    "\n",
    "# I plan on at least collecting data from 2022 to 2024\n",
    "yearly_directories = [Path(output/f\"mls_{year}\") for year in range(2022,2026)]\n",
    "\n",
    "# create output directory and sub-directories if doesnt exist\n",
    "for directory in yearly_directories+[output]:\n",
    "    try:\n",
    "        assert directory.exists()\n",
    "    except:\n",
    "        os.mkdir(directory)"
   ]
  },
  {
   "cell_type": "markdown",
   "metadata": {},
   "source": [
    "# Current Season - 2025\n",
    "I'm able to start this season off with a clean-slate. I currently have some time before the new season even starts, so \n",
    "parts of the team and player information on the website is missing. I'm going to try to set some stuff up for when that\n",
    "information comes rolling in."
   ]
  },
  {
   "cell_type": "markdown",
   "metadata": {},
   "source": [
    "## Setup\n",
    "Run this section only on your first time running this file."
   ]
  },
  {
   "cell_type": "code",
   "execution_count": 4,
   "metadata": {},
   "outputs": [],
   "source": [
    "# start with a url that looks like this page. It will automatically grab/generate associated URLs\n",
    "# for each team and player\n",
    "base_url = 'https://fbref.com/en/comps/22/Major-League-Soccer-Stats'"
   ]
  },
  {
   "cell_type": "code",
   "execution_count": 5,
   "metadata": {},
   "outputs": [],
   "source": [
    "# Pulls team names, player names, and associated urls needed for the associated season\n",
    "# Both the all_teams_df and all_players_df is saved with the current date appended at the end\n",
    "\n",
    "# year = current season year\n",
    "# all_teams_df = dataframe of associated team names and associated URLs for the associated season\n",
    "# all_players_df = dataframe of associated player names, position, team, and URLs for the associated season\n",
    "\n",
    "# player rosters are not yet available on the website at the time I ran this, so I atleast got the teams and year\n",
    "# year, all_teams_df, all_players_df = de.get_teams_and_players(base_url)\n",
    "all_teams_df, year = de.get_all_teams(base_url)"
   ]
  },
  {
   "cell_type": "code",
   "execution_count": 6,
   "metadata": {},
   "outputs": [
    {
     "data": {
      "text/plain": [
       "'2025'"
      ]
     },
     "execution_count": 6,
     "metadata": {},
     "output_type": "execute_result"
    }
   ],
   "source": [
    "year"
   ]
  },
  {
   "cell_type": "code",
   "execution_count": 7,
   "metadata": {},
   "outputs": [
    {
     "data": {
      "text/html": [
       "<div>\n",
       "<style scoped>\n",
       "    .dataframe tbody tr th:only-of-type {\n",
       "        vertical-align: middle;\n",
       "    }\n",
       "\n",
       "    .dataframe tbody tr th {\n",
       "        vertical-align: top;\n",
       "    }\n",
       "\n",
       "    .dataframe thead th {\n",
       "        text-align: right;\n",
       "    }\n",
       "</style>\n",
       "<table border=\"1\" class=\"dataframe\">\n",
       "  <thead>\n",
       "    <tr style=\"text-align: right;\">\n",
       "      <th></th>\n",
       "      <th>team</th>\n",
       "      <th>team_url</th>\n",
       "      <th>season</th>\n",
       "    </tr>\n",
       "  </thead>\n",
       "  <tbody>\n",
       "    <tr>\n",
       "      <th>0</th>\n",
       "      <td>NE Revolution</td>\n",
       "      <td>https://fbref.com/en/squads/3c079def/New-Engla...</td>\n",
       "      <td>2025</td>\n",
       "    </tr>\n",
       "    <tr>\n",
       "      <th>1</th>\n",
       "      <td>D.C. United</td>\n",
       "      <td>https://fbref.com/en/squads/44117292/DC-United...</td>\n",
       "      <td>2025</td>\n",
       "    </tr>\n",
       "    <tr>\n",
       "      <th>2</th>\n",
       "      <td>Chicago Fire</td>\n",
       "      <td>https://fbref.com/en/squads/f9940243/Chicago-F...</td>\n",
       "      <td>2025</td>\n",
       "    </tr>\n",
       "    <tr>\n",
       "      <th>3</th>\n",
       "      <td>Columbus Crew</td>\n",
       "      <td>https://fbref.com/en/squads/529ba333/Columbus-...</td>\n",
       "      <td>2025</td>\n",
       "    </tr>\n",
       "    <tr>\n",
       "      <th>4</th>\n",
       "      <td>NY Red Bulls</td>\n",
       "      <td>https://fbref.com/en/squads/69a0fb10/New-York-...</td>\n",
       "      <td>2025</td>\n",
       "    </tr>\n",
       "    <tr>\n",
       "      <th>5</th>\n",
       "      <td>Toronto FC</td>\n",
       "      <td>https://fbref.com/en/squads/130f43fa/Toronto-F...</td>\n",
       "      <td>2025</td>\n",
       "    </tr>\n",
       "    <tr>\n",
       "      <th>6</th>\n",
       "      <td>Philadelphia Union</td>\n",
       "      <td>https://fbref.com/en/squads/46024eeb/Philadelp...</td>\n",
       "      <td>2025</td>\n",
       "    </tr>\n",
       "    <tr>\n",
       "      <th>7</th>\n",
       "      <td>CF Montréal</td>\n",
       "      <td>https://fbref.com/en/squads/fc22273c/CF-Montre...</td>\n",
       "      <td>2025</td>\n",
       "    </tr>\n",
       "    <tr>\n",
       "      <th>8</th>\n",
       "      <td>Orlando City</td>\n",
       "      <td>https://fbref.com/en/squads/46ef01d0/Orlando-C...</td>\n",
       "      <td>2025</td>\n",
       "    </tr>\n",
       "    <tr>\n",
       "      <th>9</th>\n",
       "      <td>NYCFC</td>\n",
       "      <td>https://fbref.com/en/squads/64e81410/New-York-...</td>\n",
       "      <td>2025</td>\n",
       "    </tr>\n",
       "    <tr>\n",
       "      <th>10</th>\n",
       "      <td>Atlanta Utd</td>\n",
       "      <td>https://fbref.com/en/squads/1ebc1a5b/Atlanta-U...</td>\n",
       "      <td>2025</td>\n",
       "    </tr>\n",
       "    <tr>\n",
       "      <th>11</th>\n",
       "      <td>Inter Miami</td>\n",
       "      <td>https://fbref.com/en/squads/cb8b86a2/Inter-Mia...</td>\n",
       "      <td>2025</td>\n",
       "    </tr>\n",
       "    <tr>\n",
       "      <th>12</th>\n",
       "      <td>FC Cincinnati</td>\n",
       "      <td>https://fbref.com/en/squads/e9ea41b2/FC-Cincin...</td>\n",
       "      <td>2025</td>\n",
       "    </tr>\n",
       "    <tr>\n",
       "      <th>13</th>\n",
       "      <td>Nashville SC</td>\n",
       "      <td>https://fbref.com/en/squads/35f1b818/Nashville...</td>\n",
       "      <td>2025</td>\n",
       "    </tr>\n",
       "    <tr>\n",
       "      <th>14</th>\n",
       "      <td>Charlotte</td>\n",
       "      <td>https://fbref.com/en/squads/eb57545a/Charlotte...</td>\n",
       "      <td>2025</td>\n",
       "    </tr>\n",
       "    <tr>\n",
       "      <th>15</th>\n",
       "      <td>LA Galaxy</td>\n",
       "      <td>https://fbref.com/en/squads/d8b46897/LA-Galaxy...</td>\n",
       "      <td>2025</td>\n",
       "    </tr>\n",
       "    <tr>\n",
       "      <th>16</th>\n",
       "      <td>Sporting KC</td>\n",
       "      <td>https://fbref.com/en/squads/4acb0537/Sporting-...</td>\n",
       "      <td>2025</td>\n",
       "    </tr>\n",
       "    <tr>\n",
       "      <th>17</th>\n",
       "      <td>Colorado Rapids</td>\n",
       "      <td>https://fbref.com/en/squads/415b4465/Colorado-...</td>\n",
       "      <td>2025</td>\n",
       "    </tr>\n",
       "    <tr>\n",
       "      <th>18</th>\n",
       "      <td>Houston Dynamo</td>\n",
       "      <td>https://fbref.com/en/squads/0d885416/Houston-D...</td>\n",
       "      <td>2025</td>\n",
       "    </tr>\n",
       "    <tr>\n",
       "      <th>19</th>\n",
       "      <td>FC Dallas</td>\n",
       "      <td>https://fbref.com/en/squads/15cf8f40/FC-Dallas...</td>\n",
       "      <td>2025</td>\n",
       "    </tr>\n",
       "    <tr>\n",
       "      <th>20</th>\n",
       "      <td>Real Salt Lake</td>\n",
       "      <td>https://fbref.com/en/squads/f7d86a43/Real-Salt...</td>\n",
       "      <td>2025</td>\n",
       "    </tr>\n",
       "    <tr>\n",
       "      <th>21</th>\n",
       "      <td>SJ Earthquakes</td>\n",
       "      <td>https://fbref.com/en/squads/ca460650/San-Jose-...</td>\n",
       "      <td>2025</td>\n",
       "    </tr>\n",
       "    <tr>\n",
       "      <th>22</th>\n",
       "      <td>Seattle Sounders FC</td>\n",
       "      <td>https://fbref.com/en/squads/6218ebd4/Seattle-S...</td>\n",
       "      <td>2025</td>\n",
       "    </tr>\n",
       "    <tr>\n",
       "      <th>23</th>\n",
       "      <td>Vancouver W'caps</td>\n",
       "      <td>https://fbref.com/en/squads/ab41cb90/Vancouver...</td>\n",
       "      <td>2025</td>\n",
       "    </tr>\n",
       "    <tr>\n",
       "      <th>24</th>\n",
       "      <td>Portland Timbers</td>\n",
       "      <td>https://fbref.com/en/squads/d076914e/Portland-...</td>\n",
       "      <td>2025</td>\n",
       "    </tr>\n",
       "    <tr>\n",
       "      <th>25</th>\n",
       "      <td>Minnesota Utd</td>\n",
       "      <td>https://fbref.com/en/squads/99ea75a6/Minnesota...</td>\n",
       "      <td>2025</td>\n",
       "    </tr>\n",
       "    <tr>\n",
       "      <th>26</th>\n",
       "      <td>LAFC</td>\n",
       "      <td>https://fbref.com/en/squads/81d817a3/Los-Angel...</td>\n",
       "      <td>2025</td>\n",
       "    </tr>\n",
       "    <tr>\n",
       "      <th>27</th>\n",
       "      <td>St. Louis</td>\n",
       "      <td>https://fbref.com/en/squads/bd97ac1f/St-Louis-...</td>\n",
       "      <td>2025</td>\n",
       "    </tr>\n",
       "    <tr>\n",
       "      <th>28</th>\n",
       "      <td>Austin</td>\n",
       "      <td>https://fbref.com/en/squads/b918956d/Austin-FC...</td>\n",
       "      <td>2025</td>\n",
       "    </tr>\n",
       "    <tr>\n",
       "      <th>29</th>\n",
       "      <td>San Diego FC</td>\n",
       "      <td>https://fbref.com/en/squads/91b092e1/San-Diego...</td>\n",
       "      <td>2025</td>\n",
       "    </tr>\n",
       "  </tbody>\n",
       "</table>\n",
       "</div>"
      ],
      "text/plain": [
       "                   team                                           team_url  \\\n",
       "0         NE Revolution  https://fbref.com/en/squads/3c079def/New-Engla...   \n",
       "1           D.C. United  https://fbref.com/en/squads/44117292/DC-United...   \n",
       "2          Chicago Fire  https://fbref.com/en/squads/f9940243/Chicago-F...   \n",
       "3         Columbus Crew  https://fbref.com/en/squads/529ba333/Columbus-...   \n",
       "4          NY Red Bulls  https://fbref.com/en/squads/69a0fb10/New-York-...   \n",
       "5            Toronto FC  https://fbref.com/en/squads/130f43fa/Toronto-F...   \n",
       "6    Philadelphia Union  https://fbref.com/en/squads/46024eeb/Philadelp...   \n",
       "7           CF Montréal  https://fbref.com/en/squads/fc22273c/CF-Montre...   \n",
       "8          Orlando City  https://fbref.com/en/squads/46ef01d0/Orlando-C...   \n",
       "9                 NYCFC  https://fbref.com/en/squads/64e81410/New-York-...   \n",
       "10          Atlanta Utd  https://fbref.com/en/squads/1ebc1a5b/Atlanta-U...   \n",
       "11          Inter Miami  https://fbref.com/en/squads/cb8b86a2/Inter-Mia...   \n",
       "12        FC Cincinnati  https://fbref.com/en/squads/e9ea41b2/FC-Cincin...   \n",
       "13         Nashville SC  https://fbref.com/en/squads/35f1b818/Nashville...   \n",
       "14            Charlotte  https://fbref.com/en/squads/eb57545a/Charlotte...   \n",
       "15            LA Galaxy  https://fbref.com/en/squads/d8b46897/LA-Galaxy...   \n",
       "16          Sporting KC  https://fbref.com/en/squads/4acb0537/Sporting-...   \n",
       "17      Colorado Rapids  https://fbref.com/en/squads/415b4465/Colorado-...   \n",
       "18       Houston Dynamo  https://fbref.com/en/squads/0d885416/Houston-D...   \n",
       "19            FC Dallas  https://fbref.com/en/squads/15cf8f40/FC-Dallas...   \n",
       "20       Real Salt Lake  https://fbref.com/en/squads/f7d86a43/Real-Salt...   \n",
       "21       SJ Earthquakes  https://fbref.com/en/squads/ca460650/San-Jose-...   \n",
       "22  Seattle Sounders FC  https://fbref.com/en/squads/6218ebd4/Seattle-S...   \n",
       "23     Vancouver W'caps  https://fbref.com/en/squads/ab41cb90/Vancouver...   \n",
       "24     Portland Timbers  https://fbref.com/en/squads/d076914e/Portland-...   \n",
       "25        Minnesota Utd  https://fbref.com/en/squads/99ea75a6/Minnesota...   \n",
       "26                 LAFC  https://fbref.com/en/squads/81d817a3/Los-Angel...   \n",
       "27            St. Louis  https://fbref.com/en/squads/bd97ac1f/St-Louis-...   \n",
       "28               Austin  https://fbref.com/en/squads/b918956d/Austin-FC...   \n",
       "29         San Diego FC  https://fbref.com/en/squads/91b092e1/San-Diego...   \n",
       "\n",
       "   season  \n",
       "0    2025  \n",
       "1    2025  \n",
       "2    2025  \n",
       "3    2025  \n",
       "4    2025  \n",
       "5    2025  \n",
       "6    2025  \n",
       "7    2025  \n",
       "8    2025  \n",
       "9    2025  \n",
       "10   2025  \n",
       "11   2025  \n",
       "12   2025  \n",
       "13   2025  \n",
       "14   2025  \n",
       "15   2025  \n",
       "16   2025  \n",
       "17   2025  \n",
       "18   2025  \n",
       "19   2025  \n",
       "20   2025  \n",
       "21   2025  \n",
       "22   2025  \n",
       "23   2025  \n",
       "24   2025  \n",
       "25   2025  \n",
       "26   2025  \n",
       "27   2025  \n",
       "28   2025  \n",
       "29   2025  "
      ]
     },
     "execution_count": 7,
     "metadata": {},
     "output_type": "execute_result"
    }
   ],
   "source": [
    "all_teams_df"
   ]
  },
  {
   "cell_type": "markdown",
   "metadata": {},
   "source": [
    "Only run this portion if you want a SQL db"
   ]
  },
  {
   "cell_type": "code",
   "execution_count": 8,
   "metadata": {},
   "outputs": [],
   "source": [
    "# The above dataframes are saved as csv files, but I will add them to a db\n",
    "# file as well here to refresh my SQL skills at some point.\n",
    "# I'm also doing this to share the db with some friends since they're more familiar\n",
    "# with SQL than Python.\n",
    "\n",
    "# set up connection\n",
    "con = sqlite3.connect(output / 'mls.db')\n",
    "cur = con.cursor()"
   ]
  },
  {
   "cell_type": "code",
   "execution_count": null,
   "metadata": {},
   "outputs": [
    {
     "data": {
      "text/plain": [
       "30"
      ]
     },
     "execution_count": 10,
     "metadata": {},
     "output_type": "execute_result"
    }
   ],
   "source": [
    "# if_exists is set to 'append' since I can always remove duplicates if needed\n",
    "# I don't want to accidentally replace the entire table\n",
    "all_teams_df.to_sql(name='teams', con=con, if_exists='append', index=False)\n",
    "# all_players_df.to_sql(name='players', con=con, if_exists='append', index=False)"
   ]
  },
  {
   "cell_type": "markdown",
   "metadata": {},
   "source": [
    "## Scraping\n",
    "Continue from here when you come back to continue scraping.\n",
    "\n",
    "Each team takes me about 30-40 minutes to scrape since I am grabbing data from several URLs per player.\n",
    "\n",
    "The reason it takes so long is because the website limits bots to only a few calls per minute. I had to\n",
    "use *time.sleep()* to delay each extraction to not get temporarily or permanently banned :(\n",
    "\n",
    "For each player, it currently grabs the stats related for each of the associated tables on the web-page:\n",
    "* Summary - I'm skipping this since it varies from player to player\n",
    "* Passing\n",
    "* Pass Types\n",
    "* Goal and Shot Creation\n",
    "* Defensive Actions\n",
    "* Possession\n",
    "* Miscellaneous Stats\n",
    "\n",
    "As a result, I am running the scraping in chunks to make sure everything goes smoothly since it will take hours."
   ]
  },
  {
   "cell_type": "markdown",
   "metadata": {},
   "source": [
    "## Progress\n",
    "\n",
    "* 0: NE Revolution\n",
    "* 1: D.C. United\n",
    "* 2: Chicago Fire\n",
    "* 3: Columbus Crew\n",
    "* 4: NY Red Bulls\n",
    "* 5: Toronto FC\n",
    "* 6: Philadelphia Union\n",
    "* 7: CF Montréal\n",
    "* 8: Orlando City\n",
    "* 9: NYCFC\n",
    "* 10: Atlanta Utd\n",
    "* 11: Inter Miami\n",
    "* 12: FC Cincinnati\n",
    "* 13: Nashville SC\n",
    "* 14: Charlotte\n",
    "* 15: LA Galaxy\n",
    "* 16: Sporting KC\n",
    "* 17: Colorado Rapids\n",
    "* 18: Houston Dynamo\n",
    "* 19: FC Dallas\n",
    "* 20: Real Salt Lake\n",
    "* 21: SJ Earthquakes\n",
    "* 22: Seattle Sounders FC\n",
    "* 23: Vancouver W'caps\n",
    "* 24: Portland Timbers\n",
    "* 25: Minnesota Utd\n",
    "* 26: LAFC\n",
    "* 27: St. Louis\n",
    "* 28: Austin\n",
    "* 29: San Diego FC"
   ]
  },
  {
   "cell_type": "code",
   "execution_count": null,
   "metadata": {},
   "outputs": [],
   "source": [
    "# Start re-runs from here as to not have to rerun the above\n",
    "all_players_df = pd.read_csv(output / 'mls_2025/all_players_2025_02_08.csv')\n",
    "all_teams_df = pd.read_csv(output / 'mls_2024/all_teams_2025_02_08.csv')\n",
    "year = 2025\n",
    "\n",
    "for team in all_teams_df['team']:\n",
    "    directory = Path(output / f'mls_{year}/html_files/{team}')\n",
    "    try:\n",
    "        assert directory.exists()\n",
    "    except:\n",
    "        os.mkdir(directory)"
   ]
  },
  {
   "cell_type": "code",
   "execution_count": null,
   "metadata": {},
   "outputs": [],
   "source": [
    "# edit these lines to adjust how many you're running at a time\n",
    "# I have been running a couple teams at a time by adjusting the iloc\n",
    "current_teams = list(all_teams_df['team'].iloc[:6])\n",
    "filter = all_players_df.apply(lambda x: True if x['team'] in current_teams else False, axis=1)\n",
    "current_players = all_players_df[filter]\n",
    "current_players"
   ]
  },
  {
   "cell_type": "code",
   "execution_count": null,
   "metadata": {},
   "outputs": [],
   "source": [
    "all_players_df"
   ]
  },
  {
   "cell_type": "code",
   "execution_count": null,
   "metadata": {},
   "outputs": [],
   "source": [
    "failed_indicis, failed_links = de.save_player_htmls(current_players, year)"
   ]
  },
  {
   "cell_type": "code",
   "execution_count": null,
   "metadata": {},
   "outputs": [],
   "source": [
    "failed = all_players_df.iloc[failed_indicis]\n",
    "failed"
   ]
  },
  {
   "cell_type": "code",
   "execution_count": null,
   "metadata": {},
   "outputs": [],
   "source": [
    "failed_indicis2, failed_links2 = de.save_player_htmls(failed, year)"
   ]
  },
  {
   "cell_type": "code",
   "execution_count": null,
   "metadata": {},
   "outputs": [],
   "source": [
    "failed_indicis2"
   ]
  },
  {
   "cell_type": "code",
   "execution_count": null,
   "metadata": {},
   "outputs": [],
   "source": [
    "failed_links2"
   ]
  },
  {
   "cell_type": "markdown",
   "metadata": {},
   "source": [
    "# Data From HTML"
   ]
  },
  {
   "cell_type": "code",
   "execution_count": 7,
   "metadata": {},
   "outputs": [],
   "source": [
    "passing_html = de.get_html_stat_file_paths(output, 'passing')\n",
    "passingtypes_html = de.get_html_stat_file_paths(output, 'passing_types')\n",
    "gca_html = de.get_html_stat_file_paths(output, 'gca')\n",
    "defense_html = de.get_html_stat_file_paths(output, 'defense')\n",
    "possession_html = de.get_html_stat_file_paths(output, 'possession')\n",
    "misc_html = de.get_html_stat_file_paths(output, 'misc')"
   ]
  },
  {
   "cell_type": "code",
   "execution_count": null,
   "metadata": {},
   "outputs": [],
   "source": [
    "passing_df, passing_failed = de.create_df_for_stat(passing_html, 'passing')\n",
    "passingtypes_df, passingtypes_failed = de.create_df_for_stat(passingtypes_html, 'passing_types')\n",
    "gca_df, gca_failed = de.create_df_for_stat(gca_html, 'gca')\n",
    "defense_df, defense_failed = de.create_df_for_stat(defense_html, 'defense')\n",
    "possession_df, possession_failed = de.create_df_for_stat(possession_html, 'possession')\n",
    "misc_df, misc_failed = de.create_df_for_stat(misc_html, 'misc')"
   ]
  },
  {
   "cell_type": "code",
   "execution_count": null,
   "metadata": {},
   "outputs": [],
   "source": [
    "print(len(passing_failed))\n",
    "print(len(passingtypes_failed))\n",
    "print(len(gca_failed))\n",
    "print(len(defense_failed))\n",
    "print(len(possession_failed))\n",
    "print(len(misc_failed))"
   ]
  },
  {
   "cell_type": "code",
   "execution_count": 102,
   "metadata": {},
   "outputs": [],
   "source": [
    "passing_df.to_csv(output / 'mls_2025/passing_df.csv', index=False)\n",
    "passingtypes_df.to_csv(output / 'mls_2025/passingtypes_df.csv', index=False)\n",
    "gca_df.to_csv(output / 'mls_2025/gca_df.csv', index=False)\n",
    "defense_df.to_csv(output / 'mls_2025/defense_df.csv', index=False)\n",
    "possession_df.to_csv(output / 'mls_2025/possession_df.csv', index=False)\n",
    "misc_df.to_csv(output / 'mls_2025/misc_df.csv', index=False)"
   ]
  },
  {
   "cell_type": "code",
   "execution_count": null,
   "metadata": {},
   "outputs": [],
   "source": []
  }
 ],
 "metadata": {
  "kernelspec": {
   "display_name": "FUTBOL",
   "language": "python",
   "name": "python3"
  },
  "language_info": {
   "codemirror_mode": {
    "name": "ipython",
    "version": 3
   },
   "file_extension": ".py",
   "mimetype": "text/x-python",
   "name": "python",
   "nbconvert_exporter": "python",
   "pygments_lexer": "ipython3",
   "version": "3.12.7"
  }
 },
 "nbformat": 4,
 "nbformat_minor": 2
}
