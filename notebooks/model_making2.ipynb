{
 "cells": [
  {
   "cell_type": "code",
   "execution_count": null,
   "metadata": {},
   "outputs": [],
   "source": [
    "%load_ext autoreload\n",
    "\n",
    "%autoreload 2\n",
    "\n",
    "import configparser\n",
    "import os\n",
    "import time\n",
    "import random\n",
    "import pandas as pd\n",
    "import requests\n",
    "import openpyxl\n",
    "import sqlite3\n",
    "from sklearn.model_selection import train_test_split\n",
    "\n",
    "from datetime import datetime\n",
    "from io import StringIO\n",
    "from pathlib import Path\n",
    "from bs4 import BeautifulSoup\n",
    "from alive_progress import alive_bar\n",
    "from sklearn.tree import DecisionTreeRegressor\n",
    "from sklearn.preprocessing import OneHotEncoder\n",
    "from joblib import dump, load\n",
    "\n",
    "# some stuff I set up in a config file so I don't have to keep updating certain\n",
    "# variables in every script\n",
    "config = configparser.ConfigParser()\n",
    "config.read('../src/config.ini')\n",
    "output = Path(config['paths']['output'])"
   ]
  },
  {
   "cell_type": "code",
   "execution_count": null,
   "metadata": {},
   "outputs": [],
   "source": [
    "data_df = pd.read_csv(config['data']['model_data'])\n",
    "upcoming_games = pd.read_csv(r'')"
   ]
  },
  {
   "cell_type": "code",
   "execution_count": 8,
   "metadata": {},
   "outputs": [],
   "source": [
    "def format_data_for_model(df):\n",
    "    df.drop(columns=['index','game_date', 'result', 'game_key', 'index.1', 'index.2'], inplace=True)\n",
    "    df['overall_result'] = df['overall_result'].apply(result_to_num)\n",
    "    \n",
    "    df_nums = format_numerical_variables(df)\n",
    "    df_cats = format_categorical_variables(df)\n",
    "\n",
    "    formatted_df = pd.concat([df_nums, df_cats],axis=1)\n",
    "    return formatted_df\n",
    "    \n",
    "def format_categorical_variables(df, use_as_encoder=False):\n",
    "    df_cats = df.select_dtypes(include='O')\n",
    "    if use_as_encoder:\n",
    "        encoder = create_encoder(df)\n",
    "    else:\n",
    "        encoder = load(output / 'encoder_mvp.joblib')\n",
    "    df_cats_enc = pd.DataFrame(encoder.transform(df_cats).toarray())\n",
    "    df_cats_enc.columns = encoder.get_feature_names_out()\n",
    "    df_cats_enc.index = df_cats.index\n",
    "    return df_cats_enc\n",
    "    \n",
    "def format_numerical_variables(df):\n",
    "    df_nums = df.select_dtypes(exclude='O')\n",
    "    return df_nums\n",
    "    \n",
    "def create_encoder(df):\n",
    "    encoder = OneHotEncoder()\n",
    "    encoder.fit(df)\n",
    "    return encoder\n",
    "\n",
    "def result_to_num(result):\n",
    "    if result == \"D\":\n",
    "        return 0\n",
    "    elif result ==\"L\":\n",
    "        return -1\n",
    "    else:\n",
    "        return 1\n",
    "\n"
   ]
  },
  {
   "cell_type": "code",
   "execution_count": null,
   "metadata": {},
   "outputs": [],
   "source": [
    "X = data_df.drop(columns=['overall_result', 'home_score', 'home_penalties', 'away_score', 'away_penalties'])\n",
    "y = data_df[['overall_result', 'home_score', 'home_penalties', 'away_score', 'away_penalties']]\n",
    "upcoming_games = upcoming_games.drop(columns=['overall_result', 'home_score', 'home_penalties', 'away_score', 'away_penalties'])\n",
    "\n",
    "X_train, X_test, y_train, y_test = train_test_split(X,y,test_size=.25, random_state=42)"
   ]
  }
 ],
 "metadata": {
  "kernelspec": {
   "display_name": "FUTBOL",
   "language": "python",
   "name": "python3"
  },
  "language_info": {
   "codemirror_mode": {
    "name": "ipython",
    "version": 3
   },
   "file_extension": ".py",
   "mimetype": "text/x-python",
   "name": "python",
   "nbconvert_exporter": "python",
   "pygments_lexer": "ipython3",
   "version": "3.12.7"
  }
 },
 "nbformat": 4,
 "nbformat_minor": 2
}
